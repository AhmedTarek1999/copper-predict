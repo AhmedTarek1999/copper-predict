{
 "nbformat": 4,
 "nbformat_minor": 0,
 "metadata": {
  "colab": {
   "provenance": []
  },
  "kernelspec": {
   "name": "python3",
   "language": "python",
   "display_name": "Python 3 (ipykernel)"
  },
  "language_info": {
   "name": "python"
  }
 },
 "cells": [
  {
   "cell_type": "markdown",
   "source": [
    "## Importing Packages"
   ],
   "metadata": {
    "id": "7zLDGowEErcq"
   }
  },
  {
   "cell_type": "code",
   "execution_count": 2,
   "outputs": [
    {
     "name": "stdout",
     "output_type": "stream",
     "text": [
      "Requirement already satisfied: matplotlib in c:\\users\\dell\\anaconda3\\lib\\site-packages (3.6.0)\n",
      "Requirement already satisfied: fonttools>=4.22.0 in c:\\users\\dell\\anaconda3\\lib\\site-packages (from matplotlib) (4.25.0)\n",
      "Requirement already satisfied: python-dateutil>=2.7 in c:\\users\\dell\\anaconda3\\lib\\site-packages (from matplotlib) (2.8.2)\n",
      "Requirement already satisfied: pyparsing>=2.2.1 in c:\\users\\dell\\anaconda3\\lib\\site-packages (from matplotlib) (2.4.7)\n",
      "Requirement already satisfied: numpy>=1.19 in c:\\users\\dell\\anaconda3\\lib\\site-packages (from matplotlib) (1.22.4)\n",
      "Requirement already satisfied: contourpy>=1.0.1 in c:\\users\\dell\\anaconda3\\lib\\site-packages (from matplotlib) (1.0.5)\n",
      "Requirement already satisfied: cycler>=0.10 in c:\\users\\dell\\anaconda3\\lib\\site-packages (from matplotlib) (0.11.0)\n",
      "Requirement already satisfied: kiwisolver>=1.0.1 in c:\\users\\dell\\anaconda3\\lib\\site-packages (from matplotlib) (1.3.2)\n",
      "Requirement already satisfied: packaging>=20.0 in c:\\users\\dell\\anaconda3\\lib\\site-packages (from matplotlib) (21.3)\n",
      "Requirement already satisfied: pillow>=6.2.0 in c:\\users\\dell\\anaconda3\\lib\\site-packages (from matplotlib) (9.2.0)\n",
      "Requirement already satisfied: six>=1.5 in c:\\users\\dell\\anaconda3\\lib\\site-packages (from python-dateutil>=2.7->matplotlib) (1.16.0)\n",
      "Note: you may need to restart the kernel to use updated packages.\n"
     ]
    }
   ],
   "source": [
    "%pip install matplotlib"
   ],
   "metadata": {
    "collapsed": false,
    "ExecuteTime": {
     "end_time": "2023-10-15T10:31:31.634976300Z",
     "start_time": "2023-10-15T10:31:20.847833400Z"
    }
   }
  },
  {
   "cell_type": "code",
   "execution_count": 3,
   "outputs": [
    {
     "name": "stdout",
     "output_type": "stream",
     "text": [
      "Requirement already satisfied: seaborn in c:\\users\\dell\\anaconda3\\lib\\site-packages (0.11.2)\n",
      "Requirement already satisfied: matplotlib>=2.2 in c:\\users\\dell\\anaconda3\\lib\\site-packages (from seaborn) (3.6.0)\n",
      "Requirement already satisfied: pandas>=0.23 in c:\\users\\dell\\anaconda3\\lib\\site-packages (from seaborn) (1.4.4)\n",
      "Requirement already satisfied: numpy>=1.15 in c:\\users\\dell\\anaconda3\\lib\\site-packages (from seaborn) (1.22.4)\n",
      "Requirement already satisfied: scipy>=1.0 in c:\\users\\dell\\anaconda3\\lib\\site-packages (from seaborn) (1.7.3)\n",
      "Requirement already satisfied: contourpy>=1.0.1 in c:\\users\\dell\\anaconda3\\lib\\site-packages (from matplotlib>=2.2->seaborn) (1.0.5)\n",
      "Requirement already satisfied: pillow>=6.2.0 in c:\\users\\dell\\anaconda3\\lib\\site-packages (from matplotlib>=2.2->seaborn) (9.2.0)\n",
      "Requirement already satisfied: packaging>=20.0 in c:\\users\\dell\\anaconda3\\lib\\site-packages (from matplotlib>=2.2->seaborn) (21.3)\n",
      "Requirement already satisfied: pyparsing>=2.2.1 in c:\\users\\dell\\anaconda3\\lib\\site-packages (from matplotlib>=2.2->seaborn) (2.4.7)\n",
      "Requirement already satisfied: cycler>=0.10 in c:\\users\\dell\\anaconda3\\lib\\site-packages (from matplotlib>=2.2->seaborn) (0.11.0)\n",
      "Requirement already satisfied: python-dateutil>=2.7 in c:\\users\\dell\\anaconda3\\lib\\site-packages (from matplotlib>=2.2->seaborn) (2.8.2)\n",
      "Requirement already satisfied: kiwisolver>=1.0.1 in c:\\users\\dell\\anaconda3\\lib\\site-packages (from matplotlib>=2.2->seaborn) (1.3.2)\n",
      "Requirement already satisfied: fonttools>=4.22.0 in c:\\users\\dell\\anaconda3\\lib\\site-packages (from matplotlib>=2.2->seaborn) (4.25.0)\n",
      "Requirement already satisfied: pytz>=2020.1 in c:\\users\\dell\\anaconda3\\lib\\site-packages (from pandas>=0.23->seaborn) (2022.1)\n",
      "Requirement already satisfied: six>=1.5 in c:\\users\\dell\\anaconda3\\lib\\site-packages (from python-dateutil>=2.7->matplotlib>=2.2->seaborn) (1.16.0)\n",
      "Note: you may need to restart the kernel to use updated packages.\n"
     ]
    }
   ],
   "source": [
    "%pip install seaborn"
   ],
   "metadata": {
    "collapsed": false,
    "ExecuteTime": {
     "end_time": "2023-10-15T10:31:47.706874400Z",
     "start_time": "2023-10-15T10:31:34.409384300Z"
    }
   }
  },
  {
   "cell_type": "code",
   "execution_count": 4,
   "outputs": [
    {
     "name": "stdout",
     "output_type": "stream",
     "text": [
      "Requirement already satisfied: scikit-learn in c:\\users\\dell\\anaconda3\\lib\\site-packages (1.1.1)\n",
      "Requirement already satisfied: threadpoolctl>=2.0.0 in c:\\users\\dell\\anaconda3\\lib\\site-packages (from scikit-learn) (2.2.0)\n",
      "Requirement already satisfied: scipy>=1.3.2 in c:\\users\\dell\\anaconda3\\lib\\site-packages (from scikit-learn) (1.7.3)\n",
      "Requirement already satisfied: numpy>=1.17.3 in c:\\users\\dell\\anaconda3\\lib\\site-packages (from scikit-learn) (1.22.4)\n",
      "Requirement already satisfied: joblib>=1.0.0 in c:\\users\\dell\\anaconda3\\lib\\site-packages (from scikit-learn) (1.1.0)\n",
      "Note: you may need to restart the kernel to use updated packages.\n"
     ]
    }
   ],
   "source": [
    "%pip install scikit-learn"
   ],
   "metadata": {
    "collapsed": false,
    "ExecuteTime": {
     "end_time": "2023-10-15T10:31:54.343045200Z",
     "start_time": "2023-10-15T10:31:47.714872200Z"
    }
   }
  },
  {
   "cell_type": "code",
   "execution_count": 5,
   "outputs": [
    {
     "name": "stdout",
     "output_type": "stream",
     "text": [
      "Requirement already satisfied: keras in c:\\users\\dell\\anaconda3\\lib\\site-packages (2.9.0)\n",
      "Note: you may need to restart the kernel to use updated packages.\n"
     ]
    }
   ],
   "source": [
    "%pip install keras"
   ],
   "metadata": {
    "collapsed": false,
    "ExecuteTime": {
     "end_time": "2023-10-15T10:32:00.966357Z",
     "start_time": "2023-10-15T10:31:54.343045200Z"
    }
   }
  },
  {
   "cell_type": "code",
   "execution_count": 6,
   "outputs": [
    {
     "name": "stdout",
     "output_type": "stream",
     "text": [
      "Requirement already satisfied: tensorflow in c:\\users\\dell\\anaconda3\\lib\\site-packages (2.9.1)\n",
      "Requirement already satisfied: google-pasta>=0.1.1 in c:\\users\\dell\\anaconda3\\lib\\site-packages (from tensorflow) (0.2.0)\n",
      "Requirement already satisfied: setuptools in c:\\users\\dell\\anaconda3\\lib\\site-packages (from tensorflow) (63.4.1)\n",
      "Collecting flatbuffers<2,>=1.12\n",
      "  Using cached flatbuffers-1.12-py2.py3-none-any.whl (15 kB)\n",
      "Requirement already satisfied: termcolor>=1.1.0 in c:\\users\\dell\\anaconda3\\lib\\site-packages (from tensorflow) (1.1.0)\n",
      "Requirement already satisfied: absl-py>=1.0.0 in c:\\users\\dell\\anaconda3\\lib\\site-packages (from tensorflow) (1.1.0)\n",
      "Requirement already satisfied: h5py>=2.9.0 in c:\\users\\dell\\anaconda3\\lib\\site-packages (from tensorflow) (3.7.0)\n",
      "Requirement already satisfied: wrapt>=1.11.0 in c:\\users\\dell\\anaconda3\\lib\\site-packages (from tensorflow) (1.12.1)\n",
      "Requirement already satisfied: numpy>=1.20 in c:\\users\\dell\\anaconda3\\lib\\site-packages (from tensorflow) (1.22.4)\n",
      "Requirement already satisfied: grpcio<2.0,>=1.24.3 in c:\\users\\dell\\anaconda3\\lib\\site-packages (from tensorflow) (1.46.3)\n",
      "Requirement already satisfied: tensorflow-estimator<2.10.0,>=2.9.0rc0 in c:\\users\\dell\\anaconda3\\lib\\site-packages (from tensorflow) (2.9.0)\n",
      "Requirement already satisfied: gast<=0.4.0,>=0.2.1 in c:\\users\\dell\\anaconda3\\lib\\site-packages (from tensorflow) (0.4.0)\n",
      "Requirement already satisfied: astunparse>=1.6.0 in c:\\users\\dell\\anaconda3\\lib\\site-packages (from tensorflow) (1.6.3)\n",
      "Requirement already satisfied: six>=1.12.0 in c:\\users\\dell\\anaconda3\\lib\\site-packages (from tensorflow) (1.16.0)\n",
      "Collecting protobuf<3.20,>=3.9.2\n",
      "  Downloading protobuf-3.19.6-cp39-cp39-win_amd64.whl (895 kB)\n",
      "     -------------------------------------- 895.9/895.9 kB 2.2 MB/s eta 0:00:00\n",
      "Requirement already satisfied: packaging in c:\\users\\dell\\anaconda3\\lib\\site-packages (from tensorflow) (21.3)\n",
      "Requirement already satisfied: keras-preprocessing>=1.1.1 in c:\\users\\dell\\anaconda3\\lib\\site-packages (from tensorflow) (1.1.2)\n",
      "Requirement already satisfied: libclang>=13.0.0 in c:\\users\\dell\\anaconda3\\lib\\site-packages (from tensorflow) (14.0.1)\n",
      "Requirement already satisfied: tensorboard<2.10,>=2.9 in c:\\users\\dell\\anaconda3\\lib\\site-packages (from tensorflow) (2.9.1)\n",
      "Requirement already satisfied: keras<2.10.0,>=2.9.0rc0 in c:\\users\\dell\\anaconda3\\lib\\site-packages (from tensorflow) (2.9.0)\n",
      "Requirement already satisfied: typing-extensions>=3.6.6 in c:\\users\\dell\\anaconda3\\lib\\site-packages (from tensorflow) (4.3.0)\n",
      "Requirement already satisfied: opt-einsum>=2.3.2 in c:\\users\\dell\\anaconda3\\lib\\site-packages (from tensorflow) (3.3.0)\n",
      "Requirement already satisfied: tensorflow-io-gcs-filesystem>=0.23.1 in c:\\users\\dell\\anaconda3\\lib\\site-packages (from tensorflow) (0.26.0)\n",
      "Requirement already satisfied: wheel<1.0,>=0.23.0 in c:\\users\\dell\\anaconda3\\lib\\site-packages (from astunparse>=1.6.0->tensorflow) (0.37.1)\n",
      "Requirement already satisfied: werkzeug>=1.0.1 in c:\\users\\dell\\anaconda3\\lib\\site-packages (from tensorboard<2.10,>=2.9->tensorflow) (2.0.3)\n",
      "Requirement already satisfied: google-auth-oauthlib<0.5,>=0.4.1 in c:\\users\\dell\\anaconda3\\lib\\site-packages (from tensorboard<2.10,>=2.9->tensorflow) (0.4.6)\n",
      "Requirement already satisfied: tensorboard-plugin-wit>=1.6.0 in c:\\users\\dell\\anaconda3\\lib\\site-packages (from tensorboard<2.10,>=2.9->tensorflow) (1.8.1)\n",
      "Requirement already satisfied: requests<3,>=2.21.0 in c:\\users\\dell\\anaconda3\\lib\\site-packages (from tensorboard<2.10,>=2.9->tensorflow) (2.28.1)\n",
      "Requirement already satisfied: google-auth<3,>=1.6.3 in c:\\users\\dell\\anaconda3\\lib\\site-packages (from tensorboard<2.10,>=2.9->tensorflow) (2.7.0)\n",
      "Requirement already satisfied: tensorboard-data-server<0.7.0,>=0.6.0 in c:\\users\\dell\\anaconda3\\lib\\site-packages (from tensorboard<2.10,>=2.9->tensorflow) (0.6.1)\n",
      "Requirement already satisfied: markdown>=2.6.8 in c:\\users\\dell\\anaconda3\\lib\\site-packages (from tensorboard<2.10,>=2.9->tensorflow) (3.3.7)\n",
      "Requirement already satisfied: pyparsing!=3.0.5,>=2.0.2 in c:\\users\\dell\\anaconda3\\lib\\site-packages (from packaging->tensorflow) (2.4.7)\n",
      "Requirement already satisfied: rsa<5,>=3.1.4 in c:\\users\\dell\\anaconda3\\lib\\site-packages (from google-auth<3,>=1.6.3->tensorboard<2.10,>=2.9->tensorflow) (4.8)\n",
      "Requirement already satisfied: pyasn1-modules>=0.2.1 in c:\\users\\dell\\anaconda3\\lib\\site-packages (from google-auth<3,>=1.6.3->tensorboard<2.10,>=2.9->tensorflow) (0.2.8)\n",
      "Requirement already satisfied: cachetools<6.0,>=2.0.0 in c:\\users\\dell\\anaconda3\\lib\\site-packages (from google-auth<3,>=1.6.3->tensorboard<2.10,>=2.9->tensorflow) (5.2.0)\n",
      "Requirement already satisfied: requests-oauthlib>=0.7.0 in c:\\users\\dell\\anaconda3\\lib\\site-packages (from google-auth-oauthlib<0.5,>=0.4.1->tensorboard<2.10,>=2.9->tensorflow) (1.3.1)\n",
      "Requirement already satisfied: importlib-metadata>=4.4 in c:\\users\\dell\\anaconda3\\lib\\site-packages (from markdown>=2.6.8->tensorboard<2.10,>=2.9->tensorflow) (4.11.3)\n",
      "Requirement already satisfied: urllib3<1.27,>=1.21.1 in c:\\users\\dell\\anaconda3\\lib\\site-packages (from requests<3,>=2.21.0->tensorboard<2.10,>=2.9->tensorflow) (1.26.11)\n",
      "Requirement already satisfied: certifi>=2017.4.17 in c:\\users\\dell\\anaconda3\\lib\\site-packages (from requests<3,>=2.21.0->tensorboard<2.10,>=2.9->tensorflow) (2022.12.7)\n",
      "Requirement already satisfied: charset-normalizer<3,>=2 in c:\\users\\dell\\anaconda3\\lib\\site-packages (from requests<3,>=2.21.0->tensorboard<2.10,>=2.9->tensorflow) (2.0.4)\n",
      "Requirement already satisfied: idna<4,>=2.5 in c:\\users\\dell\\anaconda3\\lib\\site-packages (from requests<3,>=2.21.0->tensorboard<2.10,>=2.9->tensorflow) (3.3)\n",
      "Requirement already satisfied: zipp>=0.5 in c:\\users\\dell\\anaconda3\\lib\\site-packages (from importlib-metadata>=4.4->markdown>=2.6.8->tensorboard<2.10,>=2.9->tensorflow) (3.8.0)\n",
      "Requirement already satisfied: pyasn1<0.5.0,>=0.4.6 in c:\\users\\dell\\anaconda3\\lib\\site-packages (from pyasn1-modules>=0.2.1->google-auth<3,>=1.6.3->tensorboard<2.10,>=2.9->tensorflow) (0.4.8)\n",
      "Requirement already satisfied: oauthlib>=3.0.0 in c:\\users\\dell\\anaconda3\\lib\\site-packages (from requests-oauthlib>=0.7.0->google-auth-oauthlib<0.5,>=0.4.1->tensorboard<2.10,>=2.9->tensorflow) (3.2.0)\n",
      "Installing collected packages: flatbuffers, protobuf\n",
      "  Attempting uninstall: flatbuffers\n",
      "    Found existing installation: flatbuffers 2.0\n",
      "    Uninstalling flatbuffers-2.0:\n",
      "      Successfully uninstalled flatbuffers-2.0\n",
      "  Attempting uninstall: protobuf\n",
      "    Found existing installation: protobuf 3.20.1\n",
      "    Uninstalling protobuf-3.20.1:\n",
      "      Successfully uninstalled protobuf-3.20.1\n",
      "Successfully installed flatbuffers-1.12 protobuf-3.19.6\n",
      "Note: you may need to restart the kernel to use updated packages.\n"
     ]
    },
    {
     "name": "stderr",
     "output_type": "stream",
     "text": [
      "ERROR: pip's dependency resolver does not currently take into account all the packages that are installed. This behaviour is the source of the following dependency conflicts.\n",
      "tf-nightly 2.10.0.dev20220616 requires flatbuffers>=2.0, but you have flatbuffers 1.12 which is incompatible.\n",
      "streamlit 1.27.2 requires protobuf<5,>=3.20, but you have protobuf 3.19.6 which is incompatible.\n",
      "google-api-core 2.10.1 requires protobuf<5.0.0dev,>=3.20.1, but you have protobuf 3.19.6 which is incompatible.\n"
     ]
    }
   ],
   "source": [
    "%pip install tensorflow"
   ],
   "metadata": {
    "collapsed": false,
    "ExecuteTime": {
     "end_time": "2023-10-15T10:32:29.970451300Z",
     "start_time": "2023-10-15T10:32:00.974336100Z"
    }
   }
  },
  {
   "cell_type": "code",
   "execution_count": 7,
   "outputs": [
    {
     "name": "stdout",
     "output_type": "stream",
     "text": [
      "Requirement already satisfied: statsmodels in c:\\users\\dell\\anaconda3\\lib\\site-packages (0.13.2)\n",
      "Requirement already satisfied: numpy>=1.17 in c:\\users\\dell\\anaconda3\\lib\\site-packages (from statsmodels) (1.22.4)\n",
      "Requirement already satisfied: scipy>=1.3 in c:\\users\\dell\\anaconda3\\lib\\site-packages (from statsmodels) (1.7.3)\n",
      "Requirement already satisfied: pandas>=0.25 in c:\\users\\dell\\anaconda3\\lib\\site-packages (from statsmodels) (1.4.4)\n",
      "Requirement already satisfied: patsy>=0.5.2 in c:\\users\\dell\\anaconda3\\lib\\site-packages (from statsmodels) (0.5.2)\n",
      "Requirement already satisfied: packaging>=21.3 in c:\\users\\dell\\anaconda3\\lib\\site-packages (from statsmodels) (21.3)\n",
      "Requirement already satisfied: pyparsing!=3.0.5,>=2.0.2 in c:\\users\\dell\\anaconda3\\lib\\site-packages (from packaging>=21.3->statsmodels) (2.4.7)\n",
      "Requirement already satisfied: pytz>=2020.1 in c:\\users\\dell\\anaconda3\\lib\\site-packages (from pandas>=0.25->statsmodels) (2022.1)\n",
      "Requirement already satisfied: python-dateutil>=2.8.1 in c:\\users\\dell\\anaconda3\\lib\\site-packages (from pandas>=0.25->statsmodels) (2.8.2)\n",
      "Requirement already satisfied: six in c:\\users\\dell\\anaconda3\\lib\\site-packages (from patsy>=0.5.2->statsmodels) (1.16.0)\n",
      "Note: you may need to restart the kernel to use updated packages.\n"
     ]
    }
   ],
   "source": [
    "%pip install statsmodels"
   ],
   "metadata": {
    "collapsed": false,
    "ExecuteTime": {
     "end_time": "2023-10-15T10:32:36.517183100Z",
     "start_time": "2023-10-15T10:32:29.946454800Z"
    }
   }
  },
  {
   "cell_type": "code",
   "execution_count": 8,
   "outputs": [
    {
     "name": "stdout",
     "output_type": "stream",
     "text": [
      "Requirement already satisfied: torch in c:\\users\\dell\\anaconda3\\lib\\site-packages (1.12.0)\n",
      "Requirement already satisfied: typing-extensions in c:\\users\\dell\\anaconda3\\lib\\site-packages (from torch) (4.3.0)\n",
      "Note: you may need to restart the kernel to use updated packages.\n"
     ]
    }
   ],
   "source": [
    "%pip install torch"
   ],
   "metadata": {
    "collapsed": false,
    "ExecuteTime": {
     "end_time": "2023-10-15T10:32:42.732167800Z",
     "start_time": "2023-10-15T10:32:36.517183100Z"
    }
   }
  },
  {
   "cell_type": "code",
   "execution_count": 9,
   "metadata": {
    "id": "_DjLkfnxGxyb",
    "ExecuteTime": {
     "end_time": "2023-10-15T10:32:56.679404Z",
     "start_time": "2023-10-15T10:32:42.732167800Z"
    }
   },
   "outputs": [
    {
     "name": "stdout",
     "output_type": "stream",
     "text": [
      "WARNING:tensorflow:Please fix your imports. Module tensorflow.python.training.tracking.base has been moved to tensorflow.python.trackable.base. The old module will be deleted in version 2.11.\n",
      "WARNING:tensorflow:Please fix your imports. Module tensorflow.python.training.saving.functional_saver has been moved to tensorflow.python.checkpoint.functional_saver. The old module will be deleted in version 2.11.\n",
      "WARNING:tensorflow:Please fix your imports. Module tensorflow.python.training.saving.checkpoint_options has been moved to tensorflow.python.checkpoint.checkpoint_options. The old module will be deleted in version 2.11.\n"
     ]
    }
   ],
   "source": [
    "import numpy as np\n",
    "import pandas as pd\n",
    "import matplotlib.pyplot as plt\n",
    "import seaborn as sns\n",
    "from sklearn.model_selection import train_test_split\n",
    "from sklearn.preprocessing import MinMaxScaler\n",
    "from keras.models import Sequential\n",
    "from keras.layers import Dense, Dropout, LSTM, Conv1D, MaxPooling1D, Flatten\n",
    "from keras.optimizers import Adam\n",
    "from sklearn.metrics import mean_squared_error\n",
    "import torch\n",
    "import torch.nn as nn\n",
    "from torch.utils.data import Dataset,DataLoader\n",
    "from statsmodels.graphics.tsaplots import plot_acf, plot_pacf\n",
    "from statsmodels.tsa.statespace.varmax import VARMAX\n",
    "from statsmodels.tsa.api import VAR\n",
    "from statsmodels.tsa.stattools import grangercausalitytests, adfuller\n",
    "from tqdm import tqdm_notebook\n",
    "from itertools import product"
   ]
  },
  {
   "cell_type": "code",
   "execution_count": 10,
   "outputs": [
    {
     "data": {
      "text/plain": "'cpu'"
     },
     "execution_count": 10,
     "metadata": {},
     "output_type": "execute_result"
    }
   ],
   "source": [
    "device = 'cuda:0' if torch.cuda.is_available() else 'cpu'\n",
    "device"
   ],
   "metadata": {
    "collapsed": false,
    "ExecuteTime": {
     "end_time": "2023-10-15T10:32:56.759433100Z",
     "start_time": "2023-10-15T10:32:56.671396500Z"
    }
   }
  },
  {
   "cell_type": "markdown",
   "source": [
    "## Loading Dataset"
   ],
   "metadata": {
    "id": "grLIQF-pGZw1"
   }
  },
  {
   "cell_type": "code",
   "source": [
    "df = pd.read_csv('final_merged_copper_dataset_new.csv')\n",
    "df = df.drop(['Unnamed: 0'], axis=1)\n",
    "df[\"Date\"] = pd.to_datetime(df[\"Date\"])\n",
    "df"
   ],
   "metadata": {
    "colab": {
     "base_uri": "https://localhost:8080/",
     "height": 206
    },
    "id": "fmhcgXvGE4io",
    "outputId": "d77f5b2d-d546-40cd-f7ab-b39af9c0709d",
    "ExecuteTime": {
     "end_time": "2023-10-15T10:33:28.552399600Z",
     "start_time": "2023-10-15T10:33:28.222640100Z"
    }
   },
   "execution_count": 11,
   "outputs": [
    {
     "data": {
      "text/plain": "           Date   Price    Open    High     Low   Vol.  Change %  Month  \\\n0    2023-10-05  3.5520  3.5830  3.6030  3.5490  58.69      1.03   10.0   \n1    2023-10-04  3.5890  3.6185  3.6220  3.5490  76.86      0.88   10.0   \n2    2023-10-03  3.6210  3.6480  3.6480  3.5815  69.45      0.56   10.0   \n3    2023-10-02  3.6415  3.7540  3.7615  3.6275  74.92      2.57   10.0   \n4    2023-09-29  3.7375  3.7125  3.7860  3.7115  82.33      0.80    9.0   \n...         ...     ...     ...     ...     ...    ...       ...    ...   \n2702 2013-01-07  3.6780  3.7035  3.7135  3.6525  39.01      0.03    1.0   \n2703 2013-01-06  3.6790  3.6840  3.6900  3.6710   0.29      0.39    1.0   \n2704 2013-01-04  3.6935  3.6935  3.7070  3.6710  45.82      0.63    1.0   \n2705 2013-01-03  3.7170  3.7315  3.7590  3.6900  44.09      0.51    1.0   \n2706 2013-01-02  3.7360  3.6510  3.7590  3.6440  48.42      2.29    1.0   \n\n        Year   Real_GDP      CPI  inflation_rate  PALLFNFINDEXM  \n0     2023.0  19374.000      NaN        6.600000            NaN  \n1     2023.0  19374.000      NaN        6.600000            NaN  \n2     2023.0  19374.000      NaN        6.600000            NaN  \n3     2023.0  19374.000      NaN        6.600000            NaN  \n4     2023.0  19374.000      NaN        6.600000            NaN  \n...      ...        ...      ...             ...            ...  \n2702  2013.0  17812.167  232.166        1.464833        232.166  \n2703  2013.0  17812.167  232.166        1.464833        232.166  \n2704  2013.0  17812.167  232.166        1.464833        232.166  \n2705  2013.0  17812.167  232.166        1.464833        232.166  \n2706  2013.0  17812.167  232.166        1.464833        232.166  \n\n[2707 rows x 13 columns]",
      "text/html": "<div>\n<style scoped>\n    .dataframe tbody tr th:only-of-type {\n        vertical-align: middle;\n    }\n\n    .dataframe tbody tr th {\n        vertical-align: top;\n    }\n\n    .dataframe thead th {\n        text-align: right;\n    }\n</style>\n<table border=\"1\" class=\"dataframe\">\n  <thead>\n    <tr style=\"text-align: right;\">\n      <th></th>\n      <th>Date</th>\n      <th>Price</th>\n      <th>Open</th>\n      <th>High</th>\n      <th>Low</th>\n      <th>Vol.</th>\n      <th>Change %</th>\n      <th>Month</th>\n      <th>Year</th>\n      <th>Real_GDP</th>\n      <th>CPI</th>\n      <th>inflation_rate</th>\n      <th>PALLFNFINDEXM</th>\n    </tr>\n  </thead>\n  <tbody>\n    <tr>\n      <th>0</th>\n      <td>2023-10-05</td>\n      <td>3.5520</td>\n      <td>3.5830</td>\n      <td>3.6030</td>\n      <td>3.5490</td>\n      <td>58.69</td>\n      <td>1.03</td>\n      <td>10.0</td>\n      <td>2023.0</td>\n      <td>19374.000</td>\n      <td>NaN</td>\n      <td>6.600000</td>\n      <td>NaN</td>\n    </tr>\n    <tr>\n      <th>1</th>\n      <td>2023-10-04</td>\n      <td>3.5890</td>\n      <td>3.6185</td>\n      <td>3.6220</td>\n      <td>3.5490</td>\n      <td>76.86</td>\n      <td>0.88</td>\n      <td>10.0</td>\n      <td>2023.0</td>\n      <td>19374.000</td>\n      <td>NaN</td>\n      <td>6.600000</td>\n      <td>NaN</td>\n    </tr>\n    <tr>\n      <th>2</th>\n      <td>2023-10-03</td>\n      <td>3.6210</td>\n      <td>3.6480</td>\n      <td>3.6480</td>\n      <td>3.5815</td>\n      <td>69.45</td>\n      <td>0.56</td>\n      <td>10.0</td>\n      <td>2023.0</td>\n      <td>19374.000</td>\n      <td>NaN</td>\n      <td>6.600000</td>\n      <td>NaN</td>\n    </tr>\n    <tr>\n      <th>3</th>\n      <td>2023-10-02</td>\n      <td>3.6415</td>\n      <td>3.7540</td>\n      <td>3.7615</td>\n      <td>3.6275</td>\n      <td>74.92</td>\n      <td>2.57</td>\n      <td>10.0</td>\n      <td>2023.0</td>\n      <td>19374.000</td>\n      <td>NaN</td>\n      <td>6.600000</td>\n      <td>NaN</td>\n    </tr>\n    <tr>\n      <th>4</th>\n      <td>2023-09-29</td>\n      <td>3.7375</td>\n      <td>3.7125</td>\n      <td>3.7860</td>\n      <td>3.7115</td>\n      <td>82.33</td>\n      <td>0.80</td>\n      <td>9.0</td>\n      <td>2023.0</td>\n      <td>19374.000</td>\n      <td>NaN</td>\n      <td>6.600000</td>\n      <td>NaN</td>\n    </tr>\n    <tr>\n      <th>...</th>\n      <td>...</td>\n      <td>...</td>\n      <td>...</td>\n      <td>...</td>\n      <td>...</td>\n      <td>...</td>\n      <td>...</td>\n      <td>...</td>\n      <td>...</td>\n      <td>...</td>\n      <td>...</td>\n      <td>...</td>\n      <td>...</td>\n    </tr>\n    <tr>\n      <th>2702</th>\n      <td>2013-01-07</td>\n      <td>3.6780</td>\n      <td>3.7035</td>\n      <td>3.7135</td>\n      <td>3.6525</td>\n      <td>39.01</td>\n      <td>0.03</td>\n      <td>1.0</td>\n      <td>2013.0</td>\n      <td>17812.167</td>\n      <td>232.166</td>\n      <td>1.464833</td>\n      <td>232.166</td>\n    </tr>\n    <tr>\n      <th>2703</th>\n      <td>2013-01-06</td>\n      <td>3.6790</td>\n      <td>3.6840</td>\n      <td>3.6900</td>\n      <td>3.6710</td>\n      <td>0.29</td>\n      <td>0.39</td>\n      <td>1.0</td>\n      <td>2013.0</td>\n      <td>17812.167</td>\n      <td>232.166</td>\n      <td>1.464833</td>\n      <td>232.166</td>\n    </tr>\n    <tr>\n      <th>2704</th>\n      <td>2013-01-04</td>\n      <td>3.6935</td>\n      <td>3.6935</td>\n      <td>3.7070</td>\n      <td>3.6710</td>\n      <td>45.82</td>\n      <td>0.63</td>\n      <td>1.0</td>\n      <td>2013.0</td>\n      <td>17812.167</td>\n      <td>232.166</td>\n      <td>1.464833</td>\n      <td>232.166</td>\n    </tr>\n    <tr>\n      <th>2705</th>\n      <td>2013-01-03</td>\n      <td>3.7170</td>\n      <td>3.7315</td>\n      <td>3.7590</td>\n      <td>3.6900</td>\n      <td>44.09</td>\n      <td>0.51</td>\n      <td>1.0</td>\n      <td>2013.0</td>\n      <td>17812.167</td>\n      <td>232.166</td>\n      <td>1.464833</td>\n      <td>232.166</td>\n    </tr>\n    <tr>\n      <th>2706</th>\n      <td>2013-01-02</td>\n      <td>3.7360</td>\n      <td>3.6510</td>\n      <td>3.7590</td>\n      <td>3.6440</td>\n      <td>48.42</td>\n      <td>2.29</td>\n      <td>1.0</td>\n      <td>2013.0</td>\n      <td>17812.167</td>\n      <td>232.166</td>\n      <td>1.464833</td>\n      <td>232.166</td>\n    </tr>\n  </tbody>\n</table>\n<p>2707 rows × 13 columns</p>\n</div>"
     },
     "execution_count": 11,
     "metadata": {},
     "output_type": "execute_result"
    }
   ]
  },
  {
   "cell_type": "code",
   "source": [
    "df.tail()"
   ],
   "metadata": {
    "colab": {
     "base_uri": "https://localhost:8080/",
     "height": 206
    },
    "id": "ZuCLp5fBFQNk",
    "outputId": "9549b17c-8603-4580-c850-b657ed453151",
    "ExecuteTime": {
     "end_time": "2023-10-15T10:33:29.510586100Z",
     "start_time": "2023-10-15T10:33:29.302605Z"
    }
   },
   "execution_count": 12,
   "outputs": [
    {
     "data": {
      "text/plain": "           Date   Price    Open    High     Low   Vol.  Change %  Month  \\\n2702 2013-01-07  3.6780  3.7035  3.7135  3.6525  39.01      0.03    1.0   \n2703 2013-01-06  3.6790  3.6840  3.6900  3.6710   0.29      0.39    1.0   \n2704 2013-01-04  3.6935  3.6935  3.7070  3.6710  45.82      0.63    1.0   \n2705 2013-01-03  3.7170  3.7315  3.7590  3.6900  44.09      0.51    1.0   \n2706 2013-01-02  3.7360  3.6510  3.7590  3.6440  48.42      2.29    1.0   \n\n        Year   Real_GDP      CPI  inflation_rate  PALLFNFINDEXM  \n2702  2013.0  17812.167  232.166        1.464833        232.166  \n2703  2013.0  17812.167  232.166        1.464833        232.166  \n2704  2013.0  17812.167  232.166        1.464833        232.166  \n2705  2013.0  17812.167  232.166        1.464833        232.166  \n2706  2013.0  17812.167  232.166        1.464833        232.166  ",
      "text/html": "<div>\n<style scoped>\n    .dataframe tbody tr th:only-of-type {\n        vertical-align: middle;\n    }\n\n    .dataframe tbody tr th {\n        vertical-align: top;\n    }\n\n    .dataframe thead th {\n        text-align: right;\n    }\n</style>\n<table border=\"1\" class=\"dataframe\">\n  <thead>\n    <tr style=\"text-align: right;\">\n      <th></th>\n      <th>Date</th>\n      <th>Price</th>\n      <th>Open</th>\n      <th>High</th>\n      <th>Low</th>\n      <th>Vol.</th>\n      <th>Change %</th>\n      <th>Month</th>\n      <th>Year</th>\n      <th>Real_GDP</th>\n      <th>CPI</th>\n      <th>inflation_rate</th>\n      <th>PALLFNFINDEXM</th>\n    </tr>\n  </thead>\n  <tbody>\n    <tr>\n      <th>2702</th>\n      <td>2013-01-07</td>\n      <td>3.6780</td>\n      <td>3.7035</td>\n      <td>3.7135</td>\n      <td>3.6525</td>\n      <td>39.01</td>\n      <td>0.03</td>\n      <td>1.0</td>\n      <td>2013.0</td>\n      <td>17812.167</td>\n      <td>232.166</td>\n      <td>1.464833</td>\n      <td>232.166</td>\n    </tr>\n    <tr>\n      <th>2703</th>\n      <td>2013-01-06</td>\n      <td>3.6790</td>\n      <td>3.6840</td>\n      <td>3.6900</td>\n      <td>3.6710</td>\n      <td>0.29</td>\n      <td>0.39</td>\n      <td>1.0</td>\n      <td>2013.0</td>\n      <td>17812.167</td>\n      <td>232.166</td>\n      <td>1.464833</td>\n      <td>232.166</td>\n    </tr>\n    <tr>\n      <th>2704</th>\n      <td>2013-01-04</td>\n      <td>3.6935</td>\n      <td>3.6935</td>\n      <td>3.7070</td>\n      <td>3.6710</td>\n      <td>45.82</td>\n      <td>0.63</td>\n      <td>1.0</td>\n      <td>2013.0</td>\n      <td>17812.167</td>\n      <td>232.166</td>\n      <td>1.464833</td>\n      <td>232.166</td>\n    </tr>\n    <tr>\n      <th>2705</th>\n      <td>2013-01-03</td>\n      <td>3.7170</td>\n      <td>3.7315</td>\n      <td>3.7590</td>\n      <td>3.6900</td>\n      <td>44.09</td>\n      <td>0.51</td>\n      <td>1.0</td>\n      <td>2013.0</td>\n      <td>17812.167</td>\n      <td>232.166</td>\n      <td>1.464833</td>\n      <td>232.166</td>\n    </tr>\n    <tr>\n      <th>2706</th>\n      <td>2013-01-02</td>\n      <td>3.7360</td>\n      <td>3.6510</td>\n      <td>3.7590</td>\n      <td>3.6440</td>\n      <td>48.42</td>\n      <td>2.29</td>\n      <td>1.0</td>\n      <td>2013.0</td>\n      <td>17812.167</td>\n      <td>232.166</td>\n      <td>1.464833</td>\n      <td>232.166</td>\n    </tr>\n  </tbody>\n</table>\n</div>"
     },
     "execution_count": 12,
     "metadata": {},
     "output_type": "execute_result"
    }
   ]
  },
  {
   "cell_type": "code",
   "source": [
    "df.isnull().sum()"
   ],
   "metadata": {
    "colab": {
     "base_uri": "https://localhost:8080/"
    },
    "id": "NmvbP9YOkb3p",
    "outputId": "1acd5c09-b69f-443d-a1ea-884a46f1e537",
    "ExecuteTime": {
     "end_time": "2023-10-15T10:33:30.466792200Z",
     "start_time": "2023-10-15T10:33:30.330806400Z"
    }
   },
   "execution_count": 13,
   "outputs": [
    {
     "data": {
      "text/plain": "Date               0\nPrice              0\nOpen               0\nHigh               0\nLow                0\nVol.               0\nChange %           0\nMonth              0\nYear               0\nReal_GDP           0\nCPI               24\ninflation_rate     0\nPALLFNFINDEXM     24\ndtype: int64"
     },
     "execution_count": 13,
     "metadata": {},
     "output_type": "execute_result"
    }
   ]
  },
  {
   "cell_type": "code",
   "source": [
    "# Set a constant value for missing 'CPI' in the year 2023\n",
    "constant_value_CPI_2023 = 307.0\n",
    "# Fill the missing 'CPI' values with the constant value for 2023\n",
    "df['CPI'] = df['CPI'].fillna(\n",
    "    df['Year'].apply(lambda x: constant_value_CPI_2023 if x == 2023 else np.nan))\n",
    "\n",
    "# Set a constant value for missing 'PALLFNFINDEXM' in the year 2023\n",
    "constant_value_PALLFNFINDEXM_2023 = 161.45\n",
    "# Fill the missing 'PALLFNFINDEXM' values with the constant value for 2023\n",
    "df['PALLFNFINDEXM'] = df['PALLFNFINDEXM'].fillna(\n",
    "    df['Year'].apply(lambda x: constant_value_PALLFNFINDEXM_2023 if x == 2023 else np.nan))\n",
    "\n",
    "df.isnull().sum()"
   ],
   "metadata": {
    "colab": {
     "base_uri": "https://localhost:8080/"
    },
    "id": "cPrXvTzRkitb",
    "outputId": "7afceefc-22b4-438e-8c02-c2c2dc838996",
    "ExecuteTime": {
     "end_time": "2023-10-15T10:33:31.114730600Z",
     "start_time": "2023-10-15T10:33:30.794761600Z"
    }
   },
   "execution_count": 14,
   "outputs": [
    {
     "data": {
      "text/plain": "Date              0\nPrice             0\nOpen              0\nHigh              0\nLow               0\nVol.              0\nChange %          0\nMonth             0\nYear              0\nReal_GDP          0\nCPI               0\ninflation_rate    0\nPALLFNFINDEXM     0\ndtype: int64"
     },
     "execution_count": 14,
     "metadata": {},
     "output_type": "execute_result"
    }
   ]
  },
  {
   "cell_type": "code",
   "source": [
    "df = df.drop(['Month','Year', 'Open', 'High', 'Low', 'Vol.', 'Change %'], axis=1)\n",
    "df"
   ],
   "metadata": {
    "colab": {
     "base_uri": "https://localhost:8080/",
     "height": 423
    },
    "id": "v2_0Bq9cY4Ok",
    "outputId": "fe2a6261-018e-4ad4-bc79-a1755f79d0aa",
    "ExecuteTime": {
     "end_time": "2023-10-15T10:33:31.647788200Z",
     "start_time": "2023-10-15T10:33:31.305617700Z"
    }
   },
   "execution_count": 15,
   "outputs": [
    {
     "data": {
      "text/plain": "           Date   Price   Real_GDP      CPI  inflation_rate  PALLFNFINDEXM\n0    2023-10-05  3.5520  19374.000  307.000        6.600000        161.450\n1    2023-10-04  3.5890  19374.000  307.000        6.600000        161.450\n2    2023-10-03  3.6210  19374.000  307.000        6.600000        161.450\n3    2023-10-02  3.6415  19374.000  307.000        6.600000        161.450\n4    2023-09-29  3.7375  19374.000  307.000        6.600000        161.450\n...         ...     ...        ...      ...             ...            ...\n2702 2013-01-07  3.6780  17812.167  232.166        1.464833        232.166\n2703 2013-01-06  3.6790  17812.167  232.166        1.464833        232.166\n2704 2013-01-04  3.6935  17812.167  232.166        1.464833        232.166\n2705 2013-01-03  3.7170  17812.167  232.166        1.464833        232.166\n2706 2013-01-02  3.7360  17812.167  232.166        1.464833        232.166\n\n[2707 rows x 6 columns]",
      "text/html": "<div>\n<style scoped>\n    .dataframe tbody tr th:only-of-type {\n        vertical-align: middle;\n    }\n\n    .dataframe tbody tr th {\n        vertical-align: top;\n    }\n\n    .dataframe thead th {\n        text-align: right;\n    }\n</style>\n<table border=\"1\" class=\"dataframe\">\n  <thead>\n    <tr style=\"text-align: right;\">\n      <th></th>\n      <th>Date</th>\n      <th>Price</th>\n      <th>Real_GDP</th>\n      <th>CPI</th>\n      <th>inflation_rate</th>\n      <th>PALLFNFINDEXM</th>\n    </tr>\n  </thead>\n  <tbody>\n    <tr>\n      <th>0</th>\n      <td>2023-10-05</td>\n      <td>3.5520</td>\n      <td>19374.000</td>\n      <td>307.000</td>\n      <td>6.600000</td>\n      <td>161.450</td>\n    </tr>\n    <tr>\n      <th>1</th>\n      <td>2023-10-04</td>\n      <td>3.5890</td>\n      <td>19374.000</td>\n      <td>307.000</td>\n      <td>6.600000</td>\n      <td>161.450</td>\n    </tr>\n    <tr>\n      <th>2</th>\n      <td>2023-10-03</td>\n      <td>3.6210</td>\n      <td>19374.000</td>\n      <td>307.000</td>\n      <td>6.600000</td>\n      <td>161.450</td>\n    </tr>\n    <tr>\n      <th>3</th>\n      <td>2023-10-02</td>\n      <td>3.6415</td>\n      <td>19374.000</td>\n      <td>307.000</td>\n      <td>6.600000</td>\n      <td>161.450</td>\n    </tr>\n    <tr>\n      <th>4</th>\n      <td>2023-09-29</td>\n      <td>3.7375</td>\n      <td>19374.000</td>\n      <td>307.000</td>\n      <td>6.600000</td>\n      <td>161.450</td>\n    </tr>\n    <tr>\n      <th>...</th>\n      <td>...</td>\n      <td>...</td>\n      <td>...</td>\n      <td>...</td>\n      <td>...</td>\n      <td>...</td>\n    </tr>\n    <tr>\n      <th>2702</th>\n      <td>2013-01-07</td>\n      <td>3.6780</td>\n      <td>17812.167</td>\n      <td>232.166</td>\n      <td>1.464833</td>\n      <td>232.166</td>\n    </tr>\n    <tr>\n      <th>2703</th>\n      <td>2013-01-06</td>\n      <td>3.6790</td>\n      <td>17812.167</td>\n      <td>232.166</td>\n      <td>1.464833</td>\n      <td>232.166</td>\n    </tr>\n    <tr>\n      <th>2704</th>\n      <td>2013-01-04</td>\n      <td>3.6935</td>\n      <td>17812.167</td>\n      <td>232.166</td>\n      <td>1.464833</td>\n      <td>232.166</td>\n    </tr>\n    <tr>\n      <th>2705</th>\n      <td>2013-01-03</td>\n      <td>3.7170</td>\n      <td>17812.167</td>\n      <td>232.166</td>\n      <td>1.464833</td>\n      <td>232.166</td>\n    </tr>\n    <tr>\n      <th>2706</th>\n      <td>2013-01-02</td>\n      <td>3.7360</td>\n      <td>17812.167</td>\n      <td>232.166</td>\n      <td>1.464833</td>\n      <td>232.166</td>\n    </tr>\n  </tbody>\n</table>\n<p>2707 rows × 6 columns</p>\n</div>"
     },
     "execution_count": 15,
     "metadata": {},
     "output_type": "execute_result"
    }
   ]
  },
  {
   "cell_type": "code",
   "source": [
    "df = df.iloc[::-1]\n",
    "\n",
    "df.reset_index(drop=True, inplace=True)\n",
    "df"
   ],
   "metadata": {
    "colab": {
     "base_uri": "https://localhost:8080/",
     "height": 1000
    },
    "id": "B4L_6iEaFfbS",
    "outputId": "ad692fbf-480b-4f8e-ff98-9dbd11acfbf0",
    "ExecuteTime": {
     "end_time": "2023-10-15T10:33:32.612919100Z",
     "start_time": "2023-10-15T10:33:31.949985300Z"
    }
   },
   "execution_count": 16,
   "outputs": [
    {
     "data": {
      "text/plain": "           Date   Price   Real_GDP      CPI  inflation_rate  PALLFNFINDEXM\n0    2013-01-02  3.7360  17812.167  232.166        1.464833        232.166\n1    2013-01-03  3.7170  17812.167  232.166        1.464833        232.166\n2    2013-01-04  3.6935  17812.167  232.166        1.464833        232.166\n3    2013-01-06  3.6790  17812.167  232.166        1.464833        232.166\n4    2013-01-07  3.6780  17812.167  232.166        1.464833        232.166\n...         ...     ...        ...      ...             ...            ...\n2702 2023-09-29  3.7375  19374.000  307.000        6.600000        161.450\n2703 2023-10-02  3.6415  19374.000  307.000        6.600000        161.450\n2704 2023-10-03  3.6210  19374.000  307.000        6.600000        161.450\n2705 2023-10-04  3.5890  19374.000  307.000        6.600000        161.450\n2706 2023-10-05  3.5520  19374.000  307.000        6.600000        161.450\n\n[2707 rows x 6 columns]",
      "text/html": "<div>\n<style scoped>\n    .dataframe tbody tr th:only-of-type {\n        vertical-align: middle;\n    }\n\n    .dataframe tbody tr th {\n        vertical-align: top;\n    }\n\n    .dataframe thead th {\n        text-align: right;\n    }\n</style>\n<table border=\"1\" class=\"dataframe\">\n  <thead>\n    <tr style=\"text-align: right;\">\n      <th></th>\n      <th>Date</th>\n      <th>Price</th>\n      <th>Real_GDP</th>\n      <th>CPI</th>\n      <th>inflation_rate</th>\n      <th>PALLFNFINDEXM</th>\n    </tr>\n  </thead>\n  <tbody>\n    <tr>\n      <th>0</th>\n      <td>2013-01-02</td>\n      <td>3.7360</td>\n      <td>17812.167</td>\n      <td>232.166</td>\n      <td>1.464833</td>\n      <td>232.166</td>\n    </tr>\n    <tr>\n      <th>1</th>\n      <td>2013-01-03</td>\n      <td>3.7170</td>\n      <td>17812.167</td>\n      <td>232.166</td>\n      <td>1.464833</td>\n      <td>232.166</td>\n    </tr>\n    <tr>\n      <th>2</th>\n      <td>2013-01-04</td>\n      <td>3.6935</td>\n      <td>17812.167</td>\n      <td>232.166</td>\n      <td>1.464833</td>\n      <td>232.166</td>\n    </tr>\n    <tr>\n      <th>3</th>\n      <td>2013-01-06</td>\n      <td>3.6790</td>\n      <td>17812.167</td>\n      <td>232.166</td>\n      <td>1.464833</td>\n      <td>232.166</td>\n    </tr>\n    <tr>\n      <th>4</th>\n      <td>2013-01-07</td>\n      <td>3.6780</td>\n      <td>17812.167</td>\n      <td>232.166</td>\n      <td>1.464833</td>\n      <td>232.166</td>\n    </tr>\n    <tr>\n      <th>...</th>\n      <td>...</td>\n      <td>...</td>\n      <td>...</td>\n      <td>...</td>\n      <td>...</td>\n      <td>...</td>\n    </tr>\n    <tr>\n      <th>2702</th>\n      <td>2023-09-29</td>\n      <td>3.7375</td>\n      <td>19374.000</td>\n      <td>307.000</td>\n      <td>6.600000</td>\n      <td>161.450</td>\n    </tr>\n    <tr>\n      <th>2703</th>\n      <td>2023-10-02</td>\n      <td>3.6415</td>\n      <td>19374.000</td>\n      <td>307.000</td>\n      <td>6.600000</td>\n      <td>161.450</td>\n    </tr>\n    <tr>\n      <th>2704</th>\n      <td>2023-10-03</td>\n      <td>3.6210</td>\n      <td>19374.000</td>\n      <td>307.000</td>\n      <td>6.600000</td>\n      <td>161.450</td>\n    </tr>\n    <tr>\n      <th>2705</th>\n      <td>2023-10-04</td>\n      <td>3.5890</td>\n      <td>19374.000</td>\n      <td>307.000</td>\n      <td>6.600000</td>\n      <td>161.450</td>\n    </tr>\n    <tr>\n      <th>2706</th>\n      <td>2023-10-05</td>\n      <td>3.5520</td>\n      <td>19374.000</td>\n      <td>307.000</td>\n      <td>6.600000</td>\n      <td>161.450</td>\n    </tr>\n  </tbody>\n</table>\n<p>2707 rows × 6 columns</p>\n</div>"
     },
     "execution_count": 16,
     "metadata": {},
     "output_type": "execute_result"
    }
   ]
  },
  {
   "cell_type": "code",
   "source": [
    "\"\"\"fig, ax = plt.subplots(figsize=(13,10))\n",
    "sns.heatmap(df.corr(), ax=ax, annot=True)\n",
    "plt.show()\"\"\""
   ],
   "metadata": {
    "colab": {
     "base_uri": "https://localhost:8080/",
     "height": 936
    },
    "id": "2j0A5QN0YaiO",
    "outputId": "40e6f794-a83c-4672-a60c-e9acda94c86c",
    "ExecuteTime": {
     "end_time": "2023-10-15T10:33:32.993774100Z",
     "start_time": "2023-10-15T10:33:32.569323Z"
    }
   },
   "execution_count": 17,
   "outputs": [
    {
     "data": {
      "text/plain": "'fig, ax = plt.subplots(figsize=(13,10))\\nsns.heatmap(df.corr(), ax=ax, annot=True)\\nplt.show()'"
     },
     "execution_count": 17,
     "metadata": {},
     "output_type": "execute_result"
    }
   ]
  },
  {
   "cell_type": "code",
   "execution_count": 18,
   "outputs": [
    {
     "data": {
      "text/plain": "Date     datetime64[ns]\nPrice           float64\ndtype: object"
     },
     "execution_count": 18,
     "metadata": {},
     "output_type": "execute_result"
    }
   ],
   "source": [
    "LOOKBACK = 7\n",
    "data = pd.DataFrame({'Date': df[\"Date\"].copy(),\n",
    "                     'Price': df[\"Price\"].copy()})\n",
    "# Select the \"Date\" column and store it in the variable 'train_dates'.\n",
    "dates = data[\"Date\"]\n",
    "\n",
    "# Exclude the first 'LOOKBACK' dates from 'train_dates' to create a time window.\n",
    "dates = dates[LOOKBACK:]\n",
    "data.dtypes"
   ],
   "metadata": {
    "collapsed": false,
    "ExecuteTime": {
     "end_time": "2023-10-15T10:33:33.193751700Z",
     "start_time": "2023-10-15T10:33:32.711926300Z"
    }
   }
  },
  {
   "cell_type": "code",
   "execution_count": 19,
   "outputs": [],
   "source": [
    "dates.reset_index(drop=True, inplace=True)"
   ],
   "metadata": {
    "collapsed": false,
    "ExecuteTime": {
     "end_time": "2023-10-15T10:33:33.616644800Z",
     "start_time": "2023-10-15T10:33:33.049764600Z"
    }
   }
  },
  {
   "cell_type": "code",
   "execution_count": 20,
   "outputs": [
    {
     "data": {
      "text/plain": "0      2013-01-10\n1      2013-01-11\n2      2013-01-13\n3      2013-01-14\n4      2013-01-15\n          ...    \n2695   2023-09-29\n2696   2023-10-02\n2697   2023-10-03\n2698   2023-10-04\n2699   2023-10-05\nName: Date, Length: 2700, dtype: datetime64[ns]"
     },
     "execution_count": 20,
     "metadata": {},
     "output_type": "execute_result"
    }
   ],
   "source": [
    "dates"
   ],
   "metadata": {
    "collapsed": false,
    "ExecuteTime": {
     "end_time": "2023-10-15T10:33:34.134420Z",
     "start_time": "2023-10-15T10:33:33.902658700Z"
    }
   }
  },
  {
   "cell_type": "code",
   "execution_count": 21,
   "outputs": [
    {
     "data": {
      "text/plain": "           Date   Price   Real_GDP      CPI  inflation_rate  PALLFNFINDEXM\n0    2013-01-02  3.7360  17812.167  232.166        1.464833        232.166\n1    2013-01-03  3.7170  17812.167  232.166        1.464833        232.166\n2    2013-01-04  3.6935  17812.167  232.166        1.464833        232.166\n3    2013-01-06  3.6790  17812.167  232.166        1.464833        232.166\n4    2013-01-07  3.6780  17812.167  232.166        1.464833        232.166\n...         ...     ...        ...      ...             ...            ...\n2695 2023-09-20  3.7760  19374.000  307.000        6.600000        161.450\n2696 2023-09-21  3.6960  19374.000  307.000        6.600000        161.450\n2697 2023-09-22  3.6960  19374.000  307.000        6.600000        161.450\n2698 2023-09-25  3.6700  19374.000  307.000        6.600000        161.450\n2699 2023-09-26  3.6490  19374.000  307.000        6.600000        161.450\n\n[2700 rows x 6 columns]",
      "text/html": "<div>\n<style scoped>\n    .dataframe tbody tr th:only-of-type {\n        vertical-align: middle;\n    }\n\n    .dataframe tbody tr th {\n        vertical-align: top;\n    }\n\n    .dataframe thead th {\n        text-align: right;\n    }\n</style>\n<table border=\"1\" class=\"dataframe\">\n  <thead>\n    <tr style=\"text-align: right;\">\n      <th></th>\n      <th>Date</th>\n      <th>Price</th>\n      <th>Real_GDP</th>\n      <th>CPI</th>\n      <th>inflation_rate</th>\n      <th>PALLFNFINDEXM</th>\n    </tr>\n  </thead>\n  <tbody>\n    <tr>\n      <th>0</th>\n      <td>2013-01-02</td>\n      <td>3.7360</td>\n      <td>17812.167</td>\n      <td>232.166</td>\n      <td>1.464833</td>\n      <td>232.166</td>\n    </tr>\n    <tr>\n      <th>1</th>\n      <td>2013-01-03</td>\n      <td>3.7170</td>\n      <td>17812.167</td>\n      <td>232.166</td>\n      <td>1.464833</td>\n      <td>232.166</td>\n    </tr>\n    <tr>\n      <th>2</th>\n      <td>2013-01-04</td>\n      <td>3.6935</td>\n      <td>17812.167</td>\n      <td>232.166</td>\n      <td>1.464833</td>\n      <td>232.166</td>\n    </tr>\n    <tr>\n      <th>3</th>\n      <td>2013-01-06</td>\n      <td>3.6790</td>\n      <td>17812.167</td>\n      <td>232.166</td>\n      <td>1.464833</td>\n      <td>232.166</td>\n    </tr>\n    <tr>\n      <th>4</th>\n      <td>2013-01-07</td>\n      <td>3.6780</td>\n      <td>17812.167</td>\n      <td>232.166</td>\n      <td>1.464833</td>\n      <td>232.166</td>\n    </tr>\n    <tr>\n      <th>...</th>\n      <td>...</td>\n      <td>...</td>\n      <td>...</td>\n      <td>...</td>\n      <td>...</td>\n      <td>...</td>\n    </tr>\n    <tr>\n      <th>2695</th>\n      <td>2023-09-20</td>\n      <td>3.7760</td>\n      <td>19374.000</td>\n      <td>307.000</td>\n      <td>6.600000</td>\n      <td>161.450</td>\n    </tr>\n    <tr>\n      <th>2696</th>\n      <td>2023-09-21</td>\n      <td>3.6960</td>\n      <td>19374.000</td>\n      <td>307.000</td>\n      <td>6.600000</td>\n      <td>161.450</td>\n    </tr>\n    <tr>\n      <th>2697</th>\n      <td>2023-09-22</td>\n      <td>3.6960</td>\n      <td>19374.000</td>\n      <td>307.000</td>\n      <td>6.600000</td>\n      <td>161.450</td>\n    </tr>\n    <tr>\n      <th>2698</th>\n      <td>2023-09-25</td>\n      <td>3.6700</td>\n      <td>19374.000</td>\n      <td>307.000</td>\n      <td>6.600000</td>\n      <td>161.450</td>\n    </tr>\n    <tr>\n      <th>2699</th>\n      <td>2023-09-26</td>\n      <td>3.6490</td>\n      <td>19374.000</td>\n      <td>307.000</td>\n      <td>6.600000</td>\n      <td>161.450</td>\n    </tr>\n  </tbody>\n</table>\n<p>2700 rows × 6 columns</p>\n</div>"
     },
     "execution_count": 21,
     "metadata": {},
     "output_type": "execute_result"
    }
   ],
   "source": [
    "from copy import deepcopy as dc\n",
    "\n",
    "\n",
    "def prepare_dataframe_for_lstm(df, n_steps):\n",
    "    df = dc(df)\n",
    "\n",
    "    #df.set_index('Date', inplace=True)\n",
    "\n",
    "    for i in range(1, n_steps + 1):\n",
    "        df[f'Price(t-{i})'] = df['Price'].shift(i)\n",
    "\n",
    "    df.dropna(inplace=True)\n",
    "\n",
    "    return df\n",
    "\n",
    "\n",
    "shifted_df = prepare_dataframe_for_lstm(data, LOOKBACK)\n",
    "df = df.drop(df.index[-7:])\n",
    "df"
   ],
   "metadata": {
    "collapsed": false,
    "ExecuteTime": {
     "end_time": "2023-10-15T10:33:34.884547600Z",
     "start_time": "2023-10-15T10:33:34.503709400Z"
    }
   }
  },
  {
   "cell_type": "code",
   "execution_count": 22,
   "outputs": [
    {
     "data": {
      "text/plain": "       Real_GDP      CPI  inflation_rate  PALLFNFINDEXM\n0     17812.167  232.166        1.464833        232.166\n1     17812.167  232.166        1.464833        232.166\n2     17812.167  232.166        1.464833        232.166\n3     17812.167  232.166        1.464833        232.166\n4     17812.167  232.166        1.464833        232.166\n...         ...      ...             ...            ...\n2695  19374.000  307.000        6.600000        161.450\n2696  19374.000  307.000        6.600000        161.450\n2697  19374.000  307.000        6.600000        161.450\n2698  19374.000  307.000        6.600000        161.450\n2699  19374.000  307.000        6.600000        161.450\n\n[2700 rows x 4 columns]",
      "text/html": "<div>\n<style scoped>\n    .dataframe tbody tr th:only-of-type {\n        vertical-align: middle;\n    }\n\n    .dataframe tbody tr th {\n        vertical-align: top;\n    }\n\n    .dataframe thead th {\n        text-align: right;\n    }\n</style>\n<table border=\"1\" class=\"dataframe\">\n  <thead>\n    <tr style=\"text-align: right;\">\n      <th></th>\n      <th>Real_GDP</th>\n      <th>CPI</th>\n      <th>inflation_rate</th>\n      <th>PALLFNFINDEXM</th>\n    </tr>\n  </thead>\n  <tbody>\n    <tr>\n      <th>0</th>\n      <td>17812.167</td>\n      <td>232.166</td>\n      <td>1.464833</td>\n      <td>232.166</td>\n    </tr>\n    <tr>\n      <th>1</th>\n      <td>17812.167</td>\n      <td>232.166</td>\n      <td>1.464833</td>\n      <td>232.166</td>\n    </tr>\n    <tr>\n      <th>2</th>\n      <td>17812.167</td>\n      <td>232.166</td>\n      <td>1.464833</td>\n      <td>232.166</td>\n    </tr>\n    <tr>\n      <th>3</th>\n      <td>17812.167</td>\n      <td>232.166</td>\n      <td>1.464833</td>\n      <td>232.166</td>\n    </tr>\n    <tr>\n      <th>4</th>\n      <td>17812.167</td>\n      <td>232.166</td>\n      <td>1.464833</td>\n      <td>232.166</td>\n    </tr>\n    <tr>\n      <th>...</th>\n      <td>...</td>\n      <td>...</td>\n      <td>...</td>\n      <td>...</td>\n    </tr>\n    <tr>\n      <th>2695</th>\n      <td>19374.000</td>\n      <td>307.000</td>\n      <td>6.600000</td>\n      <td>161.450</td>\n    </tr>\n    <tr>\n      <th>2696</th>\n      <td>19374.000</td>\n      <td>307.000</td>\n      <td>6.600000</td>\n      <td>161.450</td>\n    </tr>\n    <tr>\n      <th>2697</th>\n      <td>19374.000</td>\n      <td>307.000</td>\n      <td>6.600000</td>\n      <td>161.450</td>\n    </tr>\n    <tr>\n      <th>2698</th>\n      <td>19374.000</td>\n      <td>307.000</td>\n      <td>6.600000</td>\n      <td>161.450</td>\n    </tr>\n    <tr>\n      <th>2699</th>\n      <td>19374.000</td>\n      <td>307.000</td>\n      <td>6.600000</td>\n      <td>161.450</td>\n    </tr>\n  </tbody>\n</table>\n<p>2700 rows × 4 columns</p>\n</div>"
     },
     "execution_count": 22,
     "metadata": {},
     "output_type": "execute_result"
    }
   ],
   "source": [
    "df = df.drop(['Date','Price'], axis=1)\n",
    "df"
   ],
   "metadata": {
    "collapsed": false,
    "ExecuteTime": {
     "end_time": "2023-10-15T10:33:35.628490600Z",
     "start_time": "2023-10-15T10:33:35.268510100Z"
    }
   }
  },
  {
   "cell_type": "code",
   "execution_count": 23,
   "outputs": [],
   "source": [
    "GDP_before_scaling_as_np = df[\"Real_GDP\"].to_numpy()\n",
    "CPI_before_scaling_as_np = df[\"CPI\"].to_numpy()\n",
    "inflation_rate_before_scaling_as_np = df[\"inflation_rate\"].to_numpy()\n",
    "PALLFNFINDEXM_before_scaling_as_np = df[\"PALLFNFINDEXM\"].to_numpy()"
   ],
   "metadata": {
    "collapsed": false,
    "ExecuteTime": {
     "end_time": "2023-10-15T10:33:36.322202300Z",
     "start_time": "2023-10-15T10:33:35.922475900Z"
    }
   }
  },
  {
   "cell_type": "code",
   "execution_count": 24,
   "outputs": [],
   "source": [
    "GDP_scaler = MinMaxScaler(feature_range=(-1, 1))\n",
    "scaled_GDP = GDP_scaler.fit_transform(GDP_before_scaling_as_np.reshape(-1, 1))"
   ],
   "metadata": {
    "collapsed": false,
    "ExecuteTime": {
     "end_time": "2023-10-15T10:33:36.814859Z",
     "start_time": "2023-10-15T10:33:36.415996100Z"
    }
   }
  },
  {
   "cell_type": "code",
   "execution_count": 25,
   "outputs": [
    {
     "data": {
      "text/plain": "array([[-1.        ],\n       [-1.        ],\n       [-1.        ],\n       ...,\n       [-0.22100567],\n       [-0.22100567],\n       [-0.22100567]])"
     },
     "execution_count": 25,
     "metadata": {},
     "output_type": "execute_result"
    }
   ],
   "source": [
    "scaled_GDP"
   ],
   "metadata": {
    "collapsed": false,
    "ExecuteTime": {
     "end_time": "2023-10-15T10:33:36.942855600Z",
     "start_time": "2023-10-15T10:33:36.718867800Z"
    }
   }
  },
  {
   "cell_type": "code",
   "execution_count": 26,
   "outputs": [],
   "source": [
    "CPI_scaler = MinMaxScaler(feature_range=(-1, 1))\n",
    "scaled_CPI = CPI_scaler.fit_transform(CPI_before_scaling_as_np.reshape(-1, 1))"
   ],
   "metadata": {
    "collapsed": false,
    "ExecuteTime": {
     "end_time": "2023-10-15T10:33:38.082731200Z",
     "start_time": "2023-10-15T10:33:37.937886800Z"
    }
   }
  },
  {
   "cell_type": "code",
   "execution_count": 27,
   "outputs": [
    {
     "data": {
      "text/plain": "array([[-1.        ],\n       [-1.        ],\n       [-1.        ],\n       ...,\n       [ 0.99930537],\n       [ 0.99930537],\n       [ 0.99930537]])"
     },
     "execution_count": 27,
     "metadata": {},
     "output_type": "execute_result"
    }
   ],
   "source": [
    "scaled_CPI"
   ],
   "metadata": {
    "collapsed": false,
    "ExecuteTime": {
     "end_time": "2023-10-15T10:33:39.267299800Z",
     "start_time": "2023-10-15T10:33:39.163309200Z"
    }
   }
  },
  {
   "cell_type": "code",
   "execution_count": 28,
   "outputs": [],
   "source": [
    "IR_scaler = MinMaxScaler(feature_range=(-1, 1))\n",
    "scaled_IR = IR_scaler.fit_transform(inflation_rate_before_scaling_as_np.reshape(-1, 1))"
   ],
   "metadata": {
    "collapsed": false,
    "ExecuteTime": {
     "end_time": "2023-10-15T10:33:41.495850300Z",
     "start_time": "2023-10-15T10:33:41.414267500Z"
    }
   }
  },
  {
   "cell_type": "code",
   "execution_count": 29,
   "outputs": [
    {
     "data": {
      "text/plain": "array([[-0.6585043 ],\n       [-0.6585043 ],\n       [-0.6585043 ],\n       ...,\n       [ 0.64414787],\n       [ 0.64414787],\n       [ 0.64414787]])"
     },
     "execution_count": 29,
     "metadata": {},
     "output_type": "execute_result"
    }
   ],
   "source": [
    "scaled_IR"
   ],
   "metadata": {
    "collapsed": false,
    "ExecuteTime": {
     "end_time": "2023-10-15T10:33:42.806480700Z",
     "start_time": "2023-10-15T10:33:42.641350500Z"
    }
   }
  },
  {
   "cell_type": "code",
   "execution_count": 30,
   "outputs": [],
   "source": [
    "PALLFNFINDEXM_scaler = MinMaxScaler(feature_range=(-1, 1))\n",
    "scaled_PALLFNFINDEXM = PALLFNFINDEXM_scaler.fit_transform(PALLFNFINDEXM_before_scaling_as_np.reshape(-1, 1))"
   ],
   "metadata": {
    "collapsed": false,
    "ExecuteTime": {
     "end_time": "2023-10-15T10:33:44.023420600Z",
     "start_time": "2023-10-15T10:33:43.957412900Z"
    }
   }
  },
  {
   "cell_type": "code",
   "execution_count": 31,
   "outputs": [
    {
     "data": {
      "text/plain": "array([[-0.02846623],\n       [-0.02846623],\n       [-0.02846623],\n       ...,\n       [-1.        ],\n       [-1.        ],\n       [-1.        ]])"
     },
     "execution_count": 31,
     "metadata": {},
     "output_type": "execute_result"
    }
   ],
   "source": [
    "scaled_PALLFNFINDEXM"
   ],
   "metadata": {
    "collapsed": false,
    "ExecuteTime": {
     "end_time": "2023-10-15T10:33:45.586167900Z",
     "start_time": "2023-10-15T10:33:45.458749700Z"
    }
   }
  },
  {
   "cell_type": "code",
   "execution_count": 32,
   "outputs": [],
   "source": [
    "flipped_df = shifted_df[shifted_df.columns[::-1]]\n",
    "flipped_df = flipped_df.drop(['Date'], axis=1)\n"
   ],
   "metadata": {
    "collapsed": false,
    "ExecuteTime": {
     "end_time": "2023-10-15T10:33:50.942340200Z",
     "start_time": "2023-10-15T10:33:50.866886100Z"
    }
   }
  },
  {
   "cell_type": "code",
   "execution_count": 33,
   "outputs": [],
   "source": [
    "flipped_df.reset_index(drop=True, inplace=True)"
   ],
   "metadata": {
    "collapsed": false,
    "ExecuteTime": {
     "end_time": "2023-10-15T10:33:52.193274500Z",
     "start_time": "2023-10-15T10:33:52.113276900Z"
    }
   }
  },
  {
   "cell_type": "code",
   "execution_count": 34,
   "outputs": [],
   "source": [
    "new_df = pd.concat([df, flipped_df], axis=1)"
   ],
   "metadata": {
    "collapsed": false,
    "ExecuteTime": {
     "end_time": "2023-10-15T10:33:53.060487700Z",
     "start_time": "2023-10-15T10:33:52.964498700Z"
    }
   }
  },
  {
   "cell_type": "code",
   "execution_count": 35,
   "outputs": [
    {
     "data": {
      "text/plain": "       Real_GDP      CPI  inflation_rate  PALLFNFINDEXM  Price(t-7)  \\\n0     17812.167  232.166        1.464833        232.166      3.7360   \n1     17812.167  232.166        1.464833        232.166      3.7170   \n2     17812.167  232.166        1.464833        232.166      3.6935   \n3     17812.167  232.166        1.464833        232.166      3.6790   \n4     17812.167  232.166        1.464833        232.166      3.6780   \n...         ...      ...             ...            ...         ...   \n2695  19374.000  307.000        6.600000        161.450      3.7760   \n2696  19374.000  307.000        6.600000        161.450      3.6960   \n2697  19374.000  307.000        6.600000        161.450      3.6960   \n2698  19374.000  307.000        6.600000        161.450      3.6700   \n2699  19374.000  307.000        6.600000        161.450      3.6490   \n\n      Price(t-6)  Price(t-5)  Price(t-4)  Price(t-3)  Price(t-2)  Price(t-1)  \\\n0         3.7170      3.6935      3.6790      3.6780      3.6720      3.6705   \n1         3.6935      3.6790      3.6780      3.6720      3.6705      3.7090   \n2         3.6790      3.6780      3.6720      3.6705      3.7090      3.6540   \n3         3.6780      3.6720      3.6705      3.7090      3.6540      3.6390   \n4         3.6720      3.6705      3.7090      3.6540      3.6390      3.6340   \n...          ...         ...         ...         ...         ...         ...   \n2695      3.6960      3.6960      3.6700      3.6490      3.6365      3.7080   \n2696      3.6960      3.6700      3.6490      3.6365      3.7080      3.7375   \n2697      3.6700      3.6490      3.6365      3.7080      3.7375      3.6415   \n2698      3.6490      3.6365      3.7080      3.7375      3.6415      3.6210   \n2699      3.6365      3.7080      3.7375      3.6415      3.6210      3.5890   \n\n       Price  \n0     3.7090  \n1     3.6540  \n2     3.6390  \n3     3.6340  \n4     3.6375  \n...      ...  \n2695  3.7375  \n2696  3.6415  \n2697  3.6210  \n2698  3.5890  \n2699  3.5520  \n\n[2700 rows x 12 columns]",
      "text/html": "<div>\n<style scoped>\n    .dataframe tbody tr th:only-of-type {\n        vertical-align: middle;\n    }\n\n    .dataframe tbody tr th {\n        vertical-align: top;\n    }\n\n    .dataframe thead th {\n        text-align: right;\n    }\n</style>\n<table border=\"1\" class=\"dataframe\">\n  <thead>\n    <tr style=\"text-align: right;\">\n      <th></th>\n      <th>Real_GDP</th>\n      <th>CPI</th>\n      <th>inflation_rate</th>\n      <th>PALLFNFINDEXM</th>\n      <th>Price(t-7)</th>\n      <th>Price(t-6)</th>\n      <th>Price(t-5)</th>\n      <th>Price(t-4)</th>\n      <th>Price(t-3)</th>\n      <th>Price(t-2)</th>\n      <th>Price(t-1)</th>\n      <th>Price</th>\n    </tr>\n  </thead>\n  <tbody>\n    <tr>\n      <th>0</th>\n      <td>17812.167</td>\n      <td>232.166</td>\n      <td>1.464833</td>\n      <td>232.166</td>\n      <td>3.7360</td>\n      <td>3.7170</td>\n      <td>3.6935</td>\n      <td>3.6790</td>\n      <td>3.6780</td>\n      <td>3.6720</td>\n      <td>3.6705</td>\n      <td>3.7090</td>\n    </tr>\n    <tr>\n      <th>1</th>\n      <td>17812.167</td>\n      <td>232.166</td>\n      <td>1.464833</td>\n      <td>232.166</td>\n      <td>3.7170</td>\n      <td>3.6935</td>\n      <td>3.6790</td>\n      <td>3.6780</td>\n      <td>3.6720</td>\n      <td>3.6705</td>\n      <td>3.7090</td>\n      <td>3.6540</td>\n    </tr>\n    <tr>\n      <th>2</th>\n      <td>17812.167</td>\n      <td>232.166</td>\n      <td>1.464833</td>\n      <td>232.166</td>\n      <td>3.6935</td>\n      <td>3.6790</td>\n      <td>3.6780</td>\n      <td>3.6720</td>\n      <td>3.6705</td>\n      <td>3.7090</td>\n      <td>3.6540</td>\n      <td>3.6390</td>\n    </tr>\n    <tr>\n      <th>3</th>\n      <td>17812.167</td>\n      <td>232.166</td>\n      <td>1.464833</td>\n      <td>232.166</td>\n      <td>3.6790</td>\n      <td>3.6780</td>\n      <td>3.6720</td>\n      <td>3.6705</td>\n      <td>3.7090</td>\n      <td>3.6540</td>\n      <td>3.6390</td>\n      <td>3.6340</td>\n    </tr>\n    <tr>\n      <th>4</th>\n      <td>17812.167</td>\n      <td>232.166</td>\n      <td>1.464833</td>\n      <td>232.166</td>\n      <td>3.6780</td>\n      <td>3.6720</td>\n      <td>3.6705</td>\n      <td>3.7090</td>\n      <td>3.6540</td>\n      <td>3.6390</td>\n      <td>3.6340</td>\n      <td>3.6375</td>\n    </tr>\n    <tr>\n      <th>...</th>\n      <td>...</td>\n      <td>...</td>\n      <td>...</td>\n      <td>...</td>\n      <td>...</td>\n      <td>...</td>\n      <td>...</td>\n      <td>...</td>\n      <td>...</td>\n      <td>...</td>\n      <td>...</td>\n      <td>...</td>\n    </tr>\n    <tr>\n      <th>2695</th>\n      <td>19374.000</td>\n      <td>307.000</td>\n      <td>6.600000</td>\n      <td>161.450</td>\n      <td>3.7760</td>\n      <td>3.6960</td>\n      <td>3.6960</td>\n      <td>3.6700</td>\n      <td>3.6490</td>\n      <td>3.6365</td>\n      <td>3.7080</td>\n      <td>3.7375</td>\n    </tr>\n    <tr>\n      <th>2696</th>\n      <td>19374.000</td>\n      <td>307.000</td>\n      <td>6.600000</td>\n      <td>161.450</td>\n      <td>3.6960</td>\n      <td>3.6960</td>\n      <td>3.6700</td>\n      <td>3.6490</td>\n      <td>3.6365</td>\n      <td>3.7080</td>\n      <td>3.7375</td>\n      <td>3.6415</td>\n    </tr>\n    <tr>\n      <th>2697</th>\n      <td>19374.000</td>\n      <td>307.000</td>\n      <td>6.600000</td>\n      <td>161.450</td>\n      <td>3.6960</td>\n      <td>3.6700</td>\n      <td>3.6490</td>\n      <td>3.6365</td>\n      <td>3.7080</td>\n      <td>3.7375</td>\n      <td>3.6415</td>\n      <td>3.6210</td>\n    </tr>\n    <tr>\n      <th>2698</th>\n      <td>19374.000</td>\n      <td>307.000</td>\n      <td>6.600000</td>\n      <td>161.450</td>\n      <td>3.6700</td>\n      <td>3.6490</td>\n      <td>3.6365</td>\n      <td>3.7080</td>\n      <td>3.7375</td>\n      <td>3.6415</td>\n      <td>3.6210</td>\n      <td>3.5890</td>\n    </tr>\n    <tr>\n      <th>2699</th>\n      <td>19374.000</td>\n      <td>307.000</td>\n      <td>6.600000</td>\n      <td>161.450</td>\n      <td>3.6490</td>\n      <td>3.6365</td>\n      <td>3.7080</td>\n      <td>3.7375</td>\n      <td>3.6415</td>\n      <td>3.6210</td>\n      <td>3.5890</td>\n      <td>3.5520</td>\n    </tr>\n  </tbody>\n</table>\n<p>2700 rows × 12 columns</p>\n</div>"
     },
     "execution_count": 35,
     "metadata": {},
     "output_type": "execute_result"
    }
   ],
   "source": [
    "new_df"
   ],
   "metadata": {
    "collapsed": false,
    "ExecuteTime": {
     "end_time": "2023-10-15T10:33:54.017899500Z",
     "start_time": "2023-10-15T10:33:53.858024Z"
    }
   }
  },
  {
   "cell_type": "markdown",
   "source": [
    "    ## Data Preprocessing"
   ],
   "metadata": {
    "id": "aRcTKqzxW4nT"
   }
  },
  {
   "cell_type": "code",
   "execution_count": 36,
   "outputs": [
    {
     "data": {
      "text/plain": "      Price(t-7)  Price(t-6)  Price(t-5)  Price(t-4)  Price(t-3)  Price(t-2)  \\\n0         3.7360      3.7170      3.6935      3.6790      3.6780      3.6720   \n1         3.7170      3.6935      3.6790      3.6780      3.6720      3.6705   \n2         3.6935      3.6790      3.6780      3.6720      3.6705      3.7090   \n3         3.6790      3.6780      3.6720      3.6705      3.7090      3.6540   \n4         3.6780      3.6720      3.6705      3.7090      3.6540      3.6390   \n...          ...         ...         ...         ...         ...         ...   \n2695      3.7760      3.6960      3.6960      3.6700      3.6490      3.6365   \n2696      3.6960      3.6960      3.6700      3.6490      3.6365      3.7080   \n2697      3.6960      3.6700      3.6490      3.6365      3.7080      3.7375   \n2698      3.6700      3.6490      3.6365      3.7080      3.7375      3.6415   \n2699      3.6490      3.6365      3.7080      3.7375      3.6415      3.6210   \n\n      Price(t-1)   Price  \n0         3.6705  3.7090  \n1         3.7090  3.6540  \n2         3.6540  3.6390  \n3         3.6390  3.6340  \n4         3.6340  3.6375  \n...          ...     ...  \n2695      3.7080  3.7375  \n2696      3.7375  3.6415  \n2697      3.6415  3.6210  \n2698      3.6210  3.5890  \n2699      3.5890  3.5520  \n\n[2700 rows x 8 columns]",
      "text/html": "<div>\n<style scoped>\n    .dataframe tbody tr th:only-of-type {\n        vertical-align: middle;\n    }\n\n    .dataframe tbody tr th {\n        vertical-align: top;\n    }\n\n    .dataframe thead th {\n        text-align: right;\n    }\n</style>\n<table border=\"1\" class=\"dataframe\">\n  <thead>\n    <tr style=\"text-align: right;\">\n      <th></th>\n      <th>Price(t-7)</th>\n      <th>Price(t-6)</th>\n      <th>Price(t-5)</th>\n      <th>Price(t-4)</th>\n      <th>Price(t-3)</th>\n      <th>Price(t-2)</th>\n      <th>Price(t-1)</th>\n      <th>Price</th>\n    </tr>\n  </thead>\n  <tbody>\n    <tr>\n      <th>0</th>\n      <td>3.7360</td>\n      <td>3.7170</td>\n      <td>3.6935</td>\n      <td>3.6790</td>\n      <td>3.6780</td>\n      <td>3.6720</td>\n      <td>3.6705</td>\n      <td>3.7090</td>\n    </tr>\n    <tr>\n      <th>1</th>\n      <td>3.7170</td>\n      <td>3.6935</td>\n      <td>3.6790</td>\n      <td>3.6780</td>\n      <td>3.6720</td>\n      <td>3.6705</td>\n      <td>3.7090</td>\n      <td>3.6540</td>\n    </tr>\n    <tr>\n      <th>2</th>\n      <td>3.6935</td>\n      <td>3.6790</td>\n      <td>3.6780</td>\n      <td>3.6720</td>\n      <td>3.6705</td>\n      <td>3.7090</td>\n      <td>3.6540</td>\n      <td>3.6390</td>\n    </tr>\n    <tr>\n      <th>3</th>\n      <td>3.6790</td>\n      <td>3.6780</td>\n      <td>3.6720</td>\n      <td>3.6705</td>\n      <td>3.7090</td>\n      <td>3.6540</td>\n      <td>3.6390</td>\n      <td>3.6340</td>\n    </tr>\n    <tr>\n      <th>4</th>\n      <td>3.6780</td>\n      <td>3.6720</td>\n      <td>3.6705</td>\n      <td>3.7090</td>\n      <td>3.6540</td>\n      <td>3.6390</td>\n      <td>3.6340</td>\n      <td>3.6375</td>\n    </tr>\n    <tr>\n      <th>...</th>\n      <td>...</td>\n      <td>...</td>\n      <td>...</td>\n      <td>...</td>\n      <td>...</td>\n      <td>...</td>\n      <td>...</td>\n      <td>...</td>\n    </tr>\n    <tr>\n      <th>2695</th>\n      <td>3.7760</td>\n      <td>3.6960</td>\n      <td>3.6960</td>\n      <td>3.6700</td>\n      <td>3.6490</td>\n      <td>3.6365</td>\n      <td>3.7080</td>\n      <td>3.7375</td>\n    </tr>\n    <tr>\n      <th>2696</th>\n      <td>3.6960</td>\n      <td>3.6960</td>\n      <td>3.6700</td>\n      <td>3.6490</td>\n      <td>3.6365</td>\n      <td>3.7080</td>\n      <td>3.7375</td>\n      <td>3.6415</td>\n    </tr>\n    <tr>\n      <th>2697</th>\n      <td>3.6960</td>\n      <td>3.6700</td>\n      <td>3.6490</td>\n      <td>3.6365</td>\n      <td>3.7080</td>\n      <td>3.7375</td>\n      <td>3.6415</td>\n      <td>3.6210</td>\n    </tr>\n    <tr>\n      <th>2698</th>\n      <td>3.6700</td>\n      <td>3.6490</td>\n      <td>3.6365</td>\n      <td>3.7080</td>\n      <td>3.7375</td>\n      <td>3.6415</td>\n      <td>3.6210</td>\n      <td>3.5890</td>\n    </tr>\n    <tr>\n      <th>2699</th>\n      <td>3.6490</td>\n      <td>3.6365</td>\n      <td>3.7080</td>\n      <td>3.7375</td>\n      <td>3.6415</td>\n      <td>3.6210</td>\n      <td>3.5890</td>\n      <td>3.5520</td>\n    </tr>\n  </tbody>\n</table>\n<p>2700 rows × 8 columns</p>\n</div>"
     },
     "execution_count": 36,
     "metadata": {},
     "output_type": "execute_result"
    }
   ],
   "source": [
    "flipped_df"
   ],
   "metadata": {
    "collapsed": false,
    "ExecuteTime": {
     "end_time": "2023-10-15T10:33:57.117752500Z",
     "start_time": "2023-10-15T10:33:57.029761800Z"
    }
   }
  },
  {
   "cell_type": "code",
   "execution_count": 37,
   "outputs": [
    {
     "data": {
      "text/plain": "array([[3.736 , 3.717 , 3.6935, ..., 3.672 , 3.6705, 3.709 ],\n       [3.717 , 3.6935, 3.679 , ..., 3.6705, 3.709 , 3.654 ],\n       [3.6935, 3.679 , 3.678 , ..., 3.709 , 3.654 , 3.639 ],\n       ...,\n       [3.696 , 3.67  , 3.649 , ..., 3.7375, 3.6415, 3.621 ],\n       [3.67  , 3.649 , 3.6365, ..., 3.6415, 3.621 , 3.589 ],\n       [3.649 , 3.6365, 3.708 , ..., 3.621 , 3.589 , 3.552 ]])"
     },
     "execution_count": 37,
     "metadata": {},
     "output_type": "execute_result"
    }
   ],
   "source": [
    "flipped_df_before_scaling_as_np = flipped_df.to_numpy()\n",
    "flipped_df_before_scaling_as_np"
   ],
   "metadata": {
    "collapsed": false,
    "ExecuteTime": {
     "end_time": "2023-10-15T10:33:57.597708500Z",
     "start_time": "2023-10-15T10:33:57.405726900Z"
    }
   }
  },
  {
   "cell_type": "code",
   "execution_count": 38,
   "outputs": [],
   "source": [
    "price_scaler = MinMaxScaler(feature_range=(-1, 1))\n",
    "scaled_prices = price_scaler.fit_transform(flipped_df_before_scaling_as_np)"
   ],
   "metadata": {
    "collapsed": false,
    "ExecuteTime": {
     "end_time": "2023-10-15T10:33:58.237646700Z",
     "start_time": "2023-10-15T10:33:58.125657800Z"
    }
   }
  },
  {
   "cell_type": "code",
   "execution_count": 39,
   "outputs": [
    {
     "data": {
      "text/plain": "array([[0.19739479, 0.18470274, 0.16900468, ..., 0.15464262, 0.15364061,\n        0.17935872],\n       [0.18470274, 0.16900468, 0.15931864, ..., 0.15364061, 0.17935872,\n        0.14261857],\n       [0.16900468, 0.15931864, 0.15865063, ..., 0.17935872, 0.14261857,\n        0.13259853],\n       ...,\n       [0.17067468, 0.15330661, 0.13927856, ..., 0.19839679, 0.13426854,\n        0.12057448],\n       [0.15330661, 0.13927856, 0.13092852, ..., 0.13426854, 0.12057448,\n        0.0991984 ],\n       [0.13927856, 0.13092852, 0.17869071, ..., 0.12057448, 0.0991984 ,\n        0.0744823 ]])"
     },
     "execution_count": 39,
     "metadata": {},
     "output_type": "execute_result"
    }
   ],
   "source": [
    "scaled_prices"
   ],
   "metadata": {
    "collapsed": false,
    "ExecuteTime": {
     "end_time": "2023-10-15T10:33:59.131709200Z",
     "start_time": "2023-10-15T10:33:59.051718300Z"
    }
   }
  },
  {
   "cell_type": "code",
   "execution_count": 40,
   "outputs": [
    {
     "data": {
      "text/plain": "array([[-1.        , -1.        , -0.6585043 , ...,  0.15464262,\n         0.15364061,  0.17935872],\n       [-1.        , -1.        , -0.6585043 , ...,  0.15364061,\n         0.17935872,  0.14261857],\n       [-1.        , -1.        , -0.6585043 , ...,  0.17935872,\n         0.14261857,  0.13259853],\n       ...,\n       [-0.22100567,  0.99930537,  0.64414787, ...,  0.19839679,\n         0.13426854,  0.12057448],\n       [-0.22100567,  0.99930537,  0.64414787, ...,  0.13426854,\n         0.12057448,  0.0991984 ],\n       [-0.22100567,  0.99930537,  0.64414787, ...,  0.12057448,\n         0.0991984 ,  0.0744823 ]])"
     },
     "execution_count": 40,
     "metadata": {},
     "output_type": "execute_result"
    }
   ],
   "source": [
    "result = np.concatenate((scaled_GDP, scaled_CPI, scaled_IR, scaled_PALLFNFINDEXM, scaled_prices), axis=1)\n",
    "result"
   ],
   "metadata": {
    "collapsed": false,
    "ExecuteTime": {
     "end_time": "2023-10-15T10:34:00.133328800Z",
     "start_time": "2023-10-15T10:34:00.053322200Z"
    }
   }
  },
  {
   "cell_type": "code",
   "execution_count": 41,
   "outputs": [
    {
     "data": {
      "text/plain": "dtype('float32')"
     },
     "execution_count": 41,
     "metadata": {},
     "output_type": "execute_result"
    }
   ],
   "source": [
    "X = result[:, 0:11]\n",
    "y = result[:, 11]\n",
    "X = X.astype(np.float32)\n",
    "y = y.astype(np.float32)\n",
    "X.dtype"
   ],
   "metadata": {
    "collapsed": false,
    "ExecuteTime": {
     "end_time": "2023-10-15T10:34:01.514142500Z",
     "start_time": "2023-10-15T10:34:01.372118300Z"
    }
   }
  },
  {
   "cell_type": "code",
   "execution_count": 42,
   "outputs": [
    {
     "data": {
      "text/plain": "2160   2021-08-03\n2161   2021-08-04\n2162   2021-08-05\n2163   2021-08-06\n2164   2021-08-09\n          ...    \n2695   2023-09-29\n2696   2023-10-02\n2697   2023-10-03\n2698   2023-10-04\n2699   2023-10-05\nName: Date, Length: 540, dtype: datetime64[ns]"
     },
     "execution_count": 42,
     "metadata": {},
     "output_type": "execute_result"
    }
   ],
   "source": [
    "split_index = int(len(X) * 0.80)\n",
    "split_date = dates[split_index]\n",
    "\n",
    "X_train = X[:split_index]\n",
    "X_test = X[split_index:]\n",
    "y_train = y[:split_index]\n",
    "y_test = y[split_index:]\n",
    "train_dates = dates[:split_index]\n",
    "test_dates = dates[split_index:]\n",
    "test_dates"
   ],
   "metadata": {
    "collapsed": false,
    "ExecuteTime": {
     "end_time": "2023-10-15T10:34:02.600059100Z",
     "start_time": "2023-10-15T10:34:02.536066600Z"
    }
   }
  },
  {
   "cell_type": "code",
   "execution_count": 43,
   "outputs": [
    {
     "data": {
      "text/plain": "(2160, 11)"
     },
     "execution_count": 43,
     "metadata": {},
     "output_type": "execute_result"
    }
   ],
   "source": [
    "X_train.shape"
   ],
   "metadata": {
    "collapsed": false,
    "ExecuteTime": {
     "end_time": "2023-10-15T10:34:03.734781700Z",
     "start_time": "2023-10-15T10:34:03.638892300Z"
    }
   }
  },
  {
   "cell_type": "code",
   "execution_count": 44,
   "outputs": [],
   "source": [
    "X_train = X_train.reshape((-1, LOOKBACK+4, 1))\n",
    "X_test = X_test.reshape((-1, LOOKBACK+4, 1))\n",
    "\n",
    "y_train = y_train.reshape((-1, 1))\n",
    "y_test = y_test.reshape((-1, 1)) "
   ],
   "metadata": {
    "collapsed": false,
    "ExecuteTime": {
     "end_time": "2023-10-15T10:34:04.762889900Z",
     "start_time": "2023-10-15T10:34:04.672981200Z"
    }
   }
  },
  {
   "cell_type": "code",
   "execution_count": 45,
   "outputs": [
    {
     "data": {
      "text/plain": "torch.float32"
     },
     "execution_count": 45,
     "metadata": {},
     "output_type": "execute_result"
    }
   ],
   "source": [
    "X_train = torch.tensor(X_train).float()\n",
    "y_train = torch.tensor(y_train).float()\n",
    "X_test = torch.tensor(X_test).float()\n",
    "y_test = torch.tensor(y_test).float()\n",
    "\n",
    "X_test.dtype"
   ],
   "metadata": {
    "collapsed": false,
    "ExecuteTime": {
     "end_time": "2023-10-15T10:34:06.012127100Z",
     "start_time": "2023-10-15T10:34:05.885323500Z"
    }
   }
  },
  {
   "cell_type": "code",
   "execution_count": 46,
   "outputs": [
    {
     "data": {
      "text/plain": "torch.float32"
     },
     "execution_count": 46,
     "metadata": {},
     "output_type": "execute_result"
    }
   ],
   "source": [
    "y_train.dtype"
   ],
   "metadata": {
    "collapsed": false,
    "ExecuteTime": {
     "end_time": "2023-10-15T10:34:09.683641Z",
     "start_time": "2023-10-15T10:34:09.579198Z"
    }
   }
  },
  {
   "cell_type": "code",
   "execution_count": 47,
   "outputs": [],
   "source": [
    "class TimeSeriesDataset(Dataset):\n",
    "    def __init__(self, X, y):\n",
    "        self.X = X\n",
    "        self.y = y\n",
    "\n",
    "    def __len__(self):\n",
    "        return len(self.X)\n",
    "\n",
    "    def __getitem__(self, i):\n",
    "        return self.X[i], self.y[i]\n",
    "\n",
    "train_dataset = TimeSeriesDataset(X_train, y_train)\n",
    "test_dataset = TimeSeriesDataset(X_test, y_test)"
   ],
   "metadata": {
    "collapsed": false,
    "ExecuteTime": {
     "end_time": "2023-10-15T10:34:10.352483700Z",
     "start_time": "2023-10-15T10:34:10.264491900Z"
    }
   }
  },
  {
   "cell_type": "code",
   "execution_count": 48,
   "outputs": [],
   "source": [
    "batch_size = 8\n",
    "train_loader = DataLoader(train_dataset, batch_size=batch_size, shuffle=True)\n",
    "test_loader = DataLoader(test_dataset, batch_size=batch_size, shuffle=False)"
   ],
   "metadata": {
    "collapsed": false,
    "ExecuteTime": {
     "end_time": "2023-10-15T10:34:11.278204400Z",
     "start_time": "2023-10-15T10:34:11.132106600Z"
    }
   }
  },
  {
   "cell_type": "code",
   "execution_count": 49,
   "outputs": [
    {
     "name": "stdout",
     "output_type": "stream",
     "text": [
      "torch.Size([8, 11, 1]) torch.Size([8, 1])\n"
     ]
    }
   ],
   "source": [
    "for _, batch in enumerate(train_loader):\n",
    "    x_batch, y_batch = batch[0].to(device), batch[1].to(device)\n",
    "    print(x_batch.shape, y_batch.shape)\n",
    "    break"
   ],
   "metadata": {
    "collapsed": false,
    "ExecuteTime": {
     "end_time": "2023-10-15T10:34:11.685595600Z",
     "start_time": "2023-10-15T10:34:11.469617700Z"
    }
   }
  },
  {
   "cell_type": "code",
   "execution_count": 50,
   "outputs": [
    {
     "data": {
      "text/plain": "LSTM(\n  (lstm): LSTM(1, 4, batch_first=True)\n  (fc): Linear(in_features=4, out_features=1, bias=True)\n)"
     },
     "execution_count": 50,
     "metadata": {},
     "output_type": "execute_result"
    }
   ],
   "source": [
    "class LSTM(nn.Module):\n",
    "    def __init__(self, input_size, hidden_size, num_stacked_layers):\n",
    "        super().__init__()\n",
    "        self.hidden_size = hidden_size\n",
    "        self.num_stacked_layers = num_stacked_layers\n",
    "\n",
    "        self.lstm = nn.LSTM(input_size, hidden_size, num_stacked_layers,\n",
    "                            batch_first=True)\n",
    "\n",
    "        self.fc = nn.Linear(hidden_size, 1)\n",
    "\n",
    "    def forward(self, x):\n",
    "        batch_size = x.size(0)\n",
    "        h0 = torch.zeros(self.num_stacked_layers, batch_size, self.hidden_size).to(device)\n",
    "        c0 = torch.zeros(self.num_stacked_layers, batch_size, self.hidden_size).to(device)\n",
    "\n",
    "        out, _ = self.lstm(x, (h0, c0))\n",
    "        out = self.fc(out[:, -1, :])\n",
    "        return out\n",
    "\n",
    "model = LSTM(1, 4, 1)\n",
    "model.to(device)\n",
    "model"
   ],
   "metadata": {
    "collapsed": false,
    "ExecuteTime": {
     "end_time": "2023-10-15T10:34:12.372863900Z",
     "start_time": "2023-10-15T10:34:12.254264500Z"
    }
   }
  },
  {
   "cell_type": "code",
   "execution_count": 51,
   "outputs": [],
   "source": [
    "def train_one_epoch():\n",
    "    model.train(True)\n",
    "    print(f'Epoch: {epoch + 1}')\n",
    "    running_loss = 0.0\n",
    "\n",
    "    for batch_index, batch in enumerate(train_loader):\n",
    "        x_batch, y_batch = batch[0].to(device), batch[1].to(device)\n",
    "\n",
    "        output = model(x_batch)\n",
    "        loss = loss_function(output, y_batch)\n",
    "        running_loss += loss.item()\n",
    "\n",
    "        optimizer.zero_grad()\n",
    "        loss.backward()\n",
    "        optimizer.step()\n",
    "\n",
    "        if batch_index % 100 == 99:  # print every 100 batches\n",
    "            avg_loss_across_batches = running_loss / 100\n",
    "            print('Batch {0}, Loss: {1:.3f}'.format(batch_index+1,\n",
    "                                                    avg_loss_across_batches))\n",
    "            running_loss = 0.0\n",
    "    print()"
   ],
   "metadata": {
    "collapsed": false,
    "ExecuteTime": {
     "end_time": "2023-10-15T10:34:13.350996Z",
     "start_time": "2023-10-15T10:34:13.274764300Z"
    }
   }
  },
  {
   "cell_type": "code",
   "execution_count": 52,
   "outputs": [],
   "source": [
    "def validate_one_epoch():\n",
    "    model.train(False)\n",
    "    running_loss = 0.0\n",
    "\n",
    "    for batch_index, batch in enumerate(test_loader):\n",
    "        x_batch, y_batch = batch[0].to(device), batch[1].to(device)\n",
    "\n",
    "        with torch.no_grad():\n",
    "            output = model(x_batch)\n",
    "            loss = loss_function(output, y_batch)\n",
    "            running_loss += loss.item()\n",
    "\n",
    "    avg_loss_across_batches = running_loss / len(test_loader)\n",
    "\n",
    "    print('Val Loss: {0:.3f}'.format(avg_loss_across_batches))\n",
    "    print('***************************************************')\n",
    "    print()"
   ],
   "metadata": {
    "collapsed": false,
    "ExecuteTime": {
     "end_time": "2023-10-15T10:34:14.415711600Z",
     "start_time": "2023-10-15T10:34:14.311720900Z"
    }
   }
  },
  {
   "cell_type": "code",
   "execution_count": 53,
   "outputs": [
    {
     "name": "stdout",
     "output_type": "stream",
     "text": [
      "Epoch: 1\n",
      "Batch 100, Loss: 0.132\n",
      "Batch 200, Loss: 0.114\n",
      "Val Loss: 0.320\n",
      "***************************************************\n",
      "\n",
      "Epoch: 2\n",
      "Batch 100, Loss: 0.022\n",
      "Batch 200, Loss: 0.012\n",
      "\n",
      "Val Loss: 0.042\n",
      "***************************************************\n",
      "\n",
      "Epoch: 3\n",
      "Batch 100, Loss: 0.005\n",
      "Batch 200, Loss: 0.004\n",
      "\n",
      "Val Loss: 0.016\n",
      "***************************************************\n",
      "\n",
      "Epoch: 4\n",
      "Batch 100, Loss: 0.003\n",
      "Batch 200, Loss: 0.003\n",
      "\n",
      "Val Loss: 0.010\n",
      "***************************************************\n",
      "\n",
      "Epoch: 5\n",
      "Batch 100, Loss: 0.002\n",
      "Batch 200, Loss: 0.002\n",
      "\n",
      "Val Loss: 0.008\n",
      "***************************************************\n",
      "\n",
      "Epoch: 6\n",
      "Batch 100, Loss: 0.002\n",
      "Batch 200, Loss: 0.001\n",
      "\n",
      "Val Loss: 0.007\n",
      "***************************************************\n",
      "\n",
      "Epoch: 7\n",
      "Batch 100, Loss: 0.001\n",
      "Batch 200, Loss: 0.001\n",
      "Val Loss: 0.005\n",
      "***************************************************\n",
      "\n",
      "Epoch: 8\n",
      "Batch 100, Loss: 0.001\n",
      "Batch 200, Loss: 0.001\n",
      "\n",
      "Val Loss: 0.005\n",
      "***************************************************\n",
      "\n",
      "Epoch: 9\n",
      "Batch 100, Loss: 0.001\n",
      "Batch 200, Loss: 0.001\n",
      "Val Loss: 0.005\n",
      "***************************************************\n",
      "\n",
      "Epoch: 10\n",
      "Batch 100, Loss: 0.001\n",
      "Batch 200, Loss: 0.001\n",
      "\n",
      "Val Loss: 0.004\n",
      "***************************************************\n",
      "\n",
      "Epoch: 11\n",
      "Batch 100, Loss: 0.001\n",
      "Batch 200, Loss: 0.001\n",
      "\n",
      "Val Loss: 0.004\n",
      "***************************************************\n",
      "\n",
      "Epoch: 12\n",
      "Batch 100, Loss: 0.001\n",
      "Batch 200, Loss: 0.001\n",
      "\n",
      "Val Loss: 0.004\n",
      "***************************************************\n",
      "\n",
      "Epoch: 13\n",
      "Batch 100, Loss: 0.001\n",
      "Batch 200, Loss: 0.001\n",
      "\n",
      "Val Loss: 0.004\n",
      "***************************************************\n",
      "\n",
      "Epoch: 14\n",
      "Batch 100, Loss: 0.001\n",
      "Batch 200, Loss: 0.001\n",
      "\n",
      "Val Loss: 0.003\n",
      "***************************************************\n",
      "\n",
      "Epoch: 15\n",
      "Batch 100, Loss: 0.001\n",
      "Batch 200, Loss: 0.001\n",
      "\n",
      "Val Loss: 0.003\n",
      "***************************************************\n",
      "\n",
      "Epoch: 16\n",
      "Batch 100, Loss: 0.001\n",
      "Batch 200, Loss: 0.001\n",
      "\n",
      "Val Loss: 0.004\n",
      "***************************************************\n",
      "\n",
      "Epoch: 17\n",
      "Batch 100, Loss: 0.001\n",
      "Batch 200, Loss: 0.001\n",
      "\n",
      "Val Loss: 0.003\n",
      "***************************************************\n",
      "\n",
      "Epoch: 18\n",
      "Batch 100, Loss: 0.001\n",
      "Batch 200, Loss: 0.001\n",
      "\n",
      "Val Loss: 0.003\n",
      "***************************************************\n",
      "\n",
      "Epoch: 19\n",
      "Batch 100, Loss: 0.001\n",
      "Batch 200, Loss: 0.001\n",
      "\n",
      "Val Loss: 0.003\n",
      "***************************************************\n",
      "\n",
      "Epoch: 20\n",
      "Batch 100, Loss: 0.001\n",
      "Batch 200, Loss: 0.001\n",
      "\n",
      "Val Loss: 0.003\n",
      "***************************************************\n",
      "\n",
      "Epoch: 21\n",
      "Batch 100, Loss: 0.001\n",
      "Batch 200, Loss: 0.001\n",
      "\n",
      "Val Loss: 0.003\n",
      "***************************************************\n",
      "\n",
      "Epoch: 22\n",
      "Batch 100, Loss: 0.001\n",
      "Batch 200, Loss: 0.001\n",
      "\n",
      "Val Loss: 0.003\n",
      "***************************************************\n",
      "\n",
      "Epoch: 23\n",
      "Batch 100, Loss: 0.001\n",
      "Batch 200, Loss: 0.001\n",
      "\n",
      "Val Loss: 0.002\n",
      "***************************************************\n",
      "\n",
      "Epoch: 24\n",
      "Batch 100, Loss: 0.001\n",
      "Batch 200, Loss: 0.001\n",
      "\n",
      "Val Loss: 0.002\n",
      "***************************************************\n",
      "\n",
      "Epoch: 25\n",
      "Batch 100, Loss: 0.001\n",
      "Batch 200, Loss: 0.001\n",
      "\n",
      "Val Loss: 0.003\n",
      "***************************************************\n",
      "\n",
      "Epoch: 26\n",
      "Batch 100, Loss: 0.001\n",
      "Batch 200, Loss: 0.001\n",
      "\n",
      "Val Loss: 0.002\n",
      "***************************************************\n",
      "\n",
      "Epoch: 27\n",
      "Batch 100, Loss: 0.001\n",
      "Batch 200, Loss: 0.001\n",
      "\n",
      "Val Loss: 0.002\n",
      "***************************************************\n",
      "\n",
      "Epoch: 28\n",
      "Batch 100, Loss: 0.001\n",
      "Batch 200, Loss: 0.001\n",
      "\n",
      "Val Loss: 0.003\n",
      "***************************************************\n",
      "\n",
      "Epoch: 29\n",
      "Batch 100, Loss: 0.001\n",
      "Batch 200, Loss: 0.001\n",
      "\n",
      "Val Loss: 0.002\n",
      "***************************************************\n",
      "\n",
      "Epoch: 30\n",
      "Batch 100, Loss: 0.001\n",
      "Batch 200, Loss: 0.001\n",
      "\n",
      "Val Loss: 0.002\n",
      "***************************************************\n"
     ]
    }
   ],
   "source": [
    "learning_rate = 0.001\n",
    "num_epochs = 30\n",
    "loss_function = nn.MSELoss()\n",
    "optimizer = torch.optim.Adam(model.parameters(), lr=learning_rate)\n",
    "\n",
    "#Adam does the gradient descent\n",
    "\n",
    "for epoch in range(num_epochs):\n",
    "    train_one_epoch()\n",
    "    validate_one_epoch()"
   ],
   "metadata": {
    "collapsed": false,
    "ExecuteTime": {
     "end_time": "2023-10-15T10:35:07.723674300Z",
     "start_time": "2023-10-15T10:34:15.183853300Z"
    }
   }
  },
  {
   "cell_type": "code",
   "execution_count": 54,
   "outputs": [
    {
     "data": {
      "text/plain": "<Figure size 640x480 with 1 Axes>",
      "image/png": "[encoded data removed]"
     },
     "metadata": {},
     "output_type": "display_data"
    }
   ],
   "source": [
    "with torch.no_grad():\n",
    "    predicted = model(X_train[:].to(device)).to('cpu').numpy()\n",
    "\n",
    "plt.plot(train_dates, y_train, label='Actual Price')\n",
    "plt.plot(train_dates, predicted, label='Predicted Price')\n",
    "\n",
    "plt.xlabel('Dates')\n",
    "plt.ylabel('Price')\n",
    "plt.legend()\n",
    "plt.show()\n"
   ],
   "metadata": {
    "collapsed": false,
    "ExecuteTime": {
     "end_time": "2023-10-15T10:35:08.320702600Z",
     "start_time": "2023-10-15T10:35:07.723674300Z"
    }
   }
  },
  {
   "cell_type": "code",
   "execution_count": 55,
   "outputs": [
    {
     "data": {
      "text/plain": "array([3.67089762, 3.69790011, 3.66909949, ..., 4.49624483, 4.50138188,\n       4.48209717])"
     },
     "execution_count": 55,
     "metadata": {},
     "output_type": "execute_result"
    }
   ],
   "source": [
    "train_predictions = predicted.flatten()\n",
    "\n",
    "dummies = np.zeros((X_train.shape[0], LOOKBACK+1))\n",
    "dummies[:, 0] = train_predictions\n",
    "dummies = price_scaler.inverse_transform(dummies)\n",
    "\n",
    "train_predictions = dc(dummies[:, 0])\n",
    "train_predictions"
   ],
   "metadata": {
    "collapsed": false,
    "ExecuteTime": {
     "end_time": "2023-10-15T10:35:08.456688500Z",
     "start_time": "2023-10-15T10:35:08.312702400Z"
    }
   }
  },
  {
   "cell_type": "code",
   "execution_count": 56,
   "outputs": [
    {
     "data": {
      "text/plain": "array([3.70900001, 3.65399999, 3.63900001, ..., 4.50749998, 4.46550002,\n       4.41800004])"
     },
     "execution_count": 56,
     "metadata": {},
     "output_type": "execute_result"
    }
   ],
   "source": [
    "dummies = np.zeros((X_train.shape[0], LOOKBACK+1))\n",
    "dummies[:, 0] = y_train.flatten()\n",
    "dummies = price_scaler.inverse_transform(dummies)\n",
    "new_y_train = dc(dummies[:, 0])\n",
    "new_y_train"
   ],
   "metadata": {
    "collapsed": false,
    "ExecuteTime": {
     "end_time": "2023-10-15T10:35:08.456688500Z",
     "start_time": "2023-10-15T10:35:08.336701900Z"
    }
   }
  },
  {
   "cell_type": "code",
   "execution_count": 57,
   "outputs": [
    {
     "data": {
      "text/plain": "<Figure size 640x480 with 1 Axes>",
      "image/png": "[encoded data removed]"
     },
     "metadata": {},
     "output_type": "display_data"
    }
   ],
   "source": [
    "plt.plot(train_dates,new_y_train,  label='Actual Price')\n",
    "plt.plot(train_dates,train_predictions, label='Predicted Price')\n",
    "plt.xlabel('Day')\n",
    "plt.ylabel('Price')\n",
    "plt.legend()\n",
    "plt.show()"
   ],
   "metadata": {
    "collapsed": false,
    "ExecuteTime": {
     "end_time": "2023-10-15T10:35:08.837981800Z",
     "start_time": "2023-10-15T10:35:08.360716200Z"
    }
   }
  },
  {
   "cell_type": "code",
   "execution_count": 58,
   "outputs": [
    {
     "data": {
      "text/plain": "array([4.4486359 , 4.41141456, 4.36489367, 4.35414605, 4.35340662,\n       4.31894153, 4.34306704, 4.36097531, 4.36169957, 4.38037351,\n       4.35169442, 4.2682694 , 4.18168338, 4.09889723, 4.12594398,\n       4.19959031, 4.24932724, 4.27164258, 4.26839932, 4.30980725,\n       4.35441115, 4.37078166, 4.32038266, 4.31544031, 4.33349411,\n       4.3103767 , 4.27191544, 4.2883551 , 4.39088155, 4.38277366,\n       4.35117806, 4.38774233, 4.33135808, 4.2870472 , 4.18767996,\n       4.1570963 , 4.22816545, 4.24304835, 4.27795967, 4.29488268,\n       4.27539801, 4.23747016, 4.15276855, 4.18461479, 4.23095383,\n       4.21890981, 4.18375553, 4.23024643, 4.26895128, 4.33682705,\n       4.33836257, 4.44337965, 4.54260332, 4.62709042, 4.65945883,\n       4.66380888, 4.680784  , 4.6058013 , 4.54361659, 4.53409452,\n       4.50758448, 4.44322261, 4.43849691, 4.39779834, 4.39321415,\n       4.37588944, 4.3436977 , 4.33104042, 4.34237677, 4.38055857,\n       4.38288011, 4.35429034, 4.38632413, 4.42686602, 4.41669454,\n       4.38598578, 4.32274381, 4.3206399 , 4.37653875, 4.39612888,\n       4.41677021, 4.44708066, 4.35891798, 4.35550527, 4.3197768 ,\n       4.285084  , 4.30372438, 4.29114232, 4.32766805, 4.34324826,\n       4.37901198, 4.35849477, 4.32228134, 4.30630986, 4.28510407,\n       4.23061217, 4.28463456, 4.30040429, 4.30356252, 4.33521353,\n       4.37423104, 4.38952154, 4.43970291, 4.43742599, 4.42561468,\n       4.41157749, 4.44579416, 4.43628423, 4.46140088, 4.4374549 ,\n       4.39438394, 4.40940068, 4.3829531 , 4.42017997, 4.51164329,\n       4.53046151, 4.47081659, 4.42585595, 4.45799558, 4.53055074,\n       4.52782339, 4.46541472, 4.46136055, 4.49623734, 4.46067349,\n       4.38190627, 4.35860452, 4.41140099, 4.46584623, 4.47395689,\n       4.4856845 , 4.47872256, 4.47519662, 4.5460834 , 4.60050347,\n       4.54714753, 4.52501841, 4.53134219, 4.53691752, 4.53233155,\n       4.52847529, 4.52155243, 4.50393416, 4.48216641, 4.4881886 ,\n       4.47401917, 4.54269879, 4.60254412, 4.67803399, 4.77119246,\n       4.72584779, 4.69894942, 4.62423869, 4.6328319 , 4.62277071,\n       4.56617793, 4.53696481, 4.57073749, 4.63213342, 4.67291961,\n       4.66572639, 4.6597142 , 4.68961759, 4.69156829, 4.67401622,\n       4.67893751, 4.68027201, 4.69088909, 4.69738383, 4.67276596,\n       4.70273627, 4.72415781, 4.70882805, 4.6896249 , 4.69658488,\n       4.66221348, 4.68608237, 4.69289547, 4.69733725, 4.73508326,\n       4.71755903, 4.68527789, 4.69432955, 4.64631731, 4.56307886,\n       4.52463402, 4.51404763, 4.48626984, 4.45756496, 4.36401959,\n       4.33805072, 4.3598058 , 4.34223847, 4.324746  , 4.27411572,\n       4.2319514 , 4.24771721, 4.1870625 , 4.20639075, 4.22413858,\n       4.25788538, 4.23283672, 4.28140896, 4.29934025, 4.34588772,\n       4.34367915, 4.31672002, 4.30930525, 4.33615275, 4.338929  ,\n       4.35639683, 4.48461251, 4.49565486, 4.47566347, 4.46822969,\n       4.46947103, 4.43564839, 4.37710321, 4.30262599, 4.24633444,\n       4.22930159, 4.18922111, 4.10977004, 4.09034552, 4.02225542,\n       3.856444  , 3.79117976, 3.79043693, 3.80624183, 3.81383684,\n       3.76497202, 3.66446195, 3.48678514, 3.41363028, 3.52705291,\n       3.54510627, 3.47080755, 3.33253621, 3.31118106, 3.23451369,\n       3.23195502, 3.32505354, 3.32525024, 3.34197954, 3.32505626,\n       3.3529778 , 3.37659132, 3.4067698 , 3.44666259, 3.49404577,\n       3.57377367, 3.57902051, 3.55388891, 3.50574657, 3.50283827,\n       3.55998676, 3.60653387, 3.61915323, 3.66222384, 3.71641344,\n       3.70816055, 3.66256871, 3.64711609, 3.6151518 , 3.63737683,\n       3.67520092, 3.67361051, 3.6950706 , 3.67322594, 3.69595414,\n       3.70802028, 3.64949442, 3.58231026, 3.53210805, 3.4357842 ,\n       3.40751521, 3.44434346, 3.43935395, 3.50500232, 3.55917862,\n       3.6041451 , 3.5755809 , 3.53367025, 3.49411532, 3.50199908,\n       3.50940671, 3.50564891, 3.47570211, 3.46639231, 3.37286885,\n       3.29919401, 3.27255829, 3.32504573, 3.39232179, 3.40779976,\n       3.40370842, 3.45711045, 3.48736486, 3.45441923, 3.39215748,\n       3.40195808, 3.43817498, 3.425309  , 3.42745351, 3.41482192,\n       3.40727947, 3.36862092, 3.32448636, 3.37837401, 3.44588568,\n       3.4389999 , 3.40421546, 3.49249672, 3.51467902, 3.45010264,\n       3.37869951, 3.4300811 , 3.45729158, 3.43674332, 3.61167163,\n       3.62845103, 3.67437386, 3.69878418, 3.74553278, 3.86709918,\n       3.86046765, 3.8427721 , 3.80272463, 3.73102026, 3.66812584,\n       3.60156101, 3.61197554, 3.62552738, 3.64007929, 3.63203644,\n       3.64404476, 3.72015424, 3.80496578, 3.85453666, 3.82786279,\n       3.82929535, 3.8616567 , 3.89107665, 3.89679431, 3.84158724,\n       3.84880232, 3.88109649, 3.81214936, 3.78155588, 3.78976308,\n       3.8073893 , 3.82191002, 3.78790999, 3.81021525, 3.84374397,\n       3.85698793, 3.84821752, 3.83388034, 3.79557059, 3.76333147,\n       3.81159578, 3.89564103, 4.00225904, 4.07078581, 4.14487605,\n       4.19121848, 4.21964416, 4.23438804, 4.24714499, 4.25032125,\n       4.26389981, 4.27221096, 4.27029345, 4.26690421, 4.27976609,\n       4.25736393, 4.23545949, 4.24245034, 4.17273228, 4.13167573,\n       4.09522692, 4.06823433, 4.08957735, 4.06884965, 4.09987758,\n       4.05944956, 4.06957811, 4.08694048, 4.05057983, 4.11768565,\n       4.12788666, 4.20283322, 4.20993194, 4.12567728, 4.05950898,\n       4.09058706, 4.15145369, 4.12743855, 4.03834594, 4.03918825,\n       4.05264314, 4.0527702 , 4.06701405, 4.03801294, 3.91478761,\n       3.88324189, 3.89879828, 3.94834132, 3.9947769 , 4.04249228,\n       4.10924618, 4.10222241, 4.09908747, 4.10304242, 4.10591565,\n       4.11043836, 4.11403015, 4.08262701, 4.01984198, 4.00735825,\n       4.0256618 , 4.00708182, 4.02760358, 4.07702295, 4.12285115,\n       4.12734049, 4.10061166, 4.11002773, 4.10533076, 4.07117137,\n       4.02664366, 3.99565839, 3.91653951, 3.88511737, 3.89374208,\n       3.90383717, 3.93705378, 3.89919338, 3.86966083, 3.87327608,\n       3.89111627, 3.9301444 , 3.92460538, 3.81289049, 3.70744833,\n       3.73904027, 3.71386651, 3.73344174, 3.70798834, 3.67415784,\n       3.59448348, 3.58244343, 3.65315728, 3.67381288, 3.65679208,\n       3.70060631, 3.73035132, 3.76787381, 3.78005274, 3.77246942,\n       3.79609329, 3.80190186, 3.77610636, 3.82163449, 3.868233  ,\n       3.90691599, 3.91473835, 3.91143281, 3.92139022, 3.91903264,\n       3.85781579, 3.8260884 , 3.80655743, 3.76874985, 3.72411856,\n       3.75348104, 3.79301991, 3.78839209, 3.75867403, 3.78085678,\n       3.79369037, 3.78447185, 3.84124684, 3.92325661, 3.94662314,\n       3.88879402, 3.85360208, 3.83287884, 3.84294164, 3.9050952 ,\n       3.91866502, 3.90115149, 3.92840989, 3.99541372, 3.95265675,\n       3.88627761, 3.90172264, 3.89025433, 3.86260377, 3.80311367,\n       3.79378031, 3.78163244, 3.74507673, 3.73626313, 3.69348608,\n       3.67062315, 3.69025665, 3.71060861, 3.74608456, 3.78340031,\n       3.82842118, 3.81268419, 3.79703812, 3.79637685, 3.82891729,\n       3.85204692, 3.84319558, 3.85872395, 3.86284585, 3.81938665,\n       3.7848533 , 3.74157774, 3.79298288, 3.79704464, 3.79919593,\n       3.81862339, 3.81160489, 3.79218634, 3.76232953, 3.77269008,\n       3.72183619, 3.70164511, 3.67863442, 3.656545  , 3.64092771,\n       3.6882334 , 3.72863359, 3.67229681, 3.63190947, 3.59680042])"
     },
     "execution_count": 58,
     "metadata": {},
     "output_type": "execute_result"
    }
   ],
   "source": [
    "test_predictions = model(X_test.to(device)).detach().cpu().numpy().flatten()\n",
    "\n",
    "dummies = np.zeros((X_test.shape[0], LOOKBACK+1))\n",
    "dummies[:, 0] = test_predictions\n",
    "dummies = price_scaler.inverse_transform(dummies)\n",
    "\n",
    "test_predictions = dc(dummies[:, 0])\n",
    "test_predictions"
   ],
   "metadata": {
    "collapsed": false,
    "ExecuteTime": {
     "end_time": "2023-10-15T10:35:08.997965600Z",
     "start_time": "2023-10-15T10:35:08.829999300Z"
    }
   }
  },
  {
   "cell_type": "code",
   "execution_count": 59,
   "outputs": [
    {
     "data": {
      "text/plain": "0.06960613804973333"
     },
     "execution_count": 59,
     "metadata": {},
     "output_type": "execute_result"
    }
   ],
   "source": [
    "dummies = np.zeros((X_test.shape[0], LOOKBACK+1))\n",
    "dummies[:, 0] = y_test.flatten()\n",
    "dummies = price_scaler.inverse_transform(dummies)\n",
    "\n",
    "new_y_test = dc(dummies[:, 0])\n",
    "new_y_test\n",
    "squared_differences = (new_y_test - test_predictions)**2\n",
    "\n",
    "# Calculate the Root Mean Squared Error (RMSE)\n",
    "rmse = np.sqrt(np.mean(squared_differences))\n",
    "#rmse\n",
    "absolute_differences = np.abs(new_y_test - test_predictions)\n",
    "\n",
    "# Calculate the Mean Absolute Error (MAE)\n",
    "mae = np.mean(absolute_differences)\n",
    "rmse"
   ],
   "metadata": {
    "collapsed": false,
    "ExecuteTime": {
     "end_time": "2023-10-15T10:35:09.053959600Z",
     "start_time": "2023-10-15T10:35:08.861998700Z"
    }
   }
  },
  {
   "cell_type": "code",
   "execution_count": 60,
   "outputs": [
    {
     "data": {
      "text/plain": "<Figure size 640x480 with 1 Axes>",
      "image/png": "[encoded data removed]"
     },
     "metadata": {},
     "output_type": "display_data"
    }
   ],
   "source": [
    "plt.plot(test_dates, new_y_test, label='Actual Price')\n",
    "plt.plot(test_dates,test_predictions, label='Predicted Price')\n",
    "plt.xlabel('Day')\n",
    "plt.ylabel('Price')\n",
    "plt.legend()\n",
    "plt.show()\n"
   ],
   "metadata": {
    "collapsed": false,
    "ExecuteTime": {
     "end_time": "2023-10-15T10:35:09.354343200Z",
     "start_time": "2023-10-15T10:35:08.893975Z"
    }
   }
  },
  {
   "cell_type": "code",
   "execution_count": 61,
   "outputs": [
    {
     "data": {
      "text/plain": "2160   2021-08-03\n2161   2021-08-04\n2162   2021-08-05\n2163   2021-08-06\n2164   2021-08-09\n          ...    \n2695   2023-09-29\n2696   2023-10-02\n2697   2023-10-03\n2698   2023-10-04\n2699   2023-10-05\nName: Date, Length: 540, dtype: datetime64[ns]"
     },
     "execution_count": 61,
     "metadata": {},
     "output_type": "execute_result"
    }
   ],
   "source": [
    "test_dates"
   ],
   "metadata": {
    "collapsed": false,
    "ExecuteTime": {
     "end_time": "2023-10-15T10:35:09.378326500Z",
     "start_time": "2023-10-15T10:35:09.354343200Z"
    }
   }
  },
  {
   "cell_type": "code",
   "execution_count": 70,
   "outputs": [],
   "source": [
    "# Specify the file path where you want to save the trained model\n",
    "model_file_path = '\\Forecasting Copper Prices'\n",
    "\n",
    "# Save the trained model to the specified file\n",
    "torch.save(model, model_file_path)"
   ],
   "metadata": {
    "collapsed": false,
    "ExecuteTime": {
     "end_time": "2023-10-15T10:55:29.747799Z",
     "start_time": "2023-10-15T10:55:29.627805Z"
    }
   }
  },
  {
   "cell_type": "code",
   "source": [
    "# # Normalize the data\n",
    "# scaler = MinMaxScaler()\n",
    "# scaled_target = scaler.fit_transform(df['Price'].values.reshape(-1, 1))\n",
    "# scaled_features = scaler.fit_transform(df.drop(columns=['Price']))"
   ],
   "metadata": {
    "id": "iSpu5tK2K9tG",
    "ExecuteTime": {
     "end_time": "2023-10-15T10:35:09.494458300Z",
     "start_time": "2023-10-15T10:35:09.378326500Z"
    }
   },
   "execution_count": 62,
   "outputs": []
  },
  {
   "cell_type": "code",
   "source": [
    "# # Prepare sequences\n",
    "# seq_length = 30\n",
    "# X, y = [], []\n",
    "# for i in range(len(df) - seq_length):\n",
    "#     X.append(scaled_features[i:i + seq_length])\n",
    "#     y.append(scaled_target[i + seq_length])\n",
    "\n",
    "# X = np.array(X)\n",
    "# y = np.array(y)"
   ],
   "metadata": {
    "id": "hzP5CBnbMMZu",
    "ExecuteTime": {
     "start_time": "2023-10-12T11:10:52.067162500Z"
    }
   },
   "execution_count": null,
   "outputs": []
  },
  {
   "cell_type": "markdown",
   "source": [
    "## Model"
   ],
   "metadata": {
    "id": "seHtkRhYMllY"
   }
  },
  {
   "cell_type": "markdown",
   "source": [
    "### Artificial Neural Network (ANN)"
   ],
   "metadata": {
    "id": "cCU65-8Yp-LS"
   }
  },
  {
   "cell_type": "code",
   "source": [
    "# Normalize the data\n",
    "scaler = MinMaxScaler()\n",
    "data_scaled = scaler.fit_transform(df)"
   ],
   "metadata": {
    "id": "OUpJU4M8pDCZ",
    "ExecuteTime": {
     "start_time": "2023-10-12T11:10:52.069167500Z"
    }
   },
   "execution_count": null,
   "outputs": []
  },
  {
   "cell_type": "code",
   "source": [
    "# Split data into features (X) and target (y)\n",
    "X = data_scaled[:, 1:]  # Exclude the first column if it's the target variable\n",
    "y = data_scaled[:, 0]  # First column as the target variable"
   ],
   "metadata": {
    "id": "w_ZFvZYfpFbs",
    "ExecuteTime": {
     "start_time": "2023-10-12T11:10:52.070162800Z"
    }
   },
   "execution_count": null,
   "outputs": []
  },
  {
   "cell_type": "code",
   "source": [
    "# Split data into training and testing sets\n",
    "X_train, X_test, y_train, y_test = train_test_split(X, y, test_size=0.2, shuffle=False)"
   ],
   "metadata": {
    "id": "szdMKiJ3pFXQ",
    "ExecuteTime": {
     "start_time": "2023-10-12T11:10:52.071165300Z"
    }
   },
   "execution_count": null,
   "outputs": []
  },
  {
   "cell_type": "code",
   "source": [
    "# Build the ANN model\n",
    "model = Sequential()\n",
    "model.add(Dense(64, activation='relu', input_dim=X_train.shape[1]))\n",
    "model.add(Dense(32, activation='relu'))\n",
    "model.add(Dense(1, activation='linear'))  # Adjust activation function for regression"
   ],
   "metadata": {
    "id": "OiGHSL2ypFUX",
    "ExecuteTime": {
     "start_time": "2023-10-12T11:10:52.073168100Z"
    }
   },
   "execution_count": null,
   "outputs": []
  },
  {
   "cell_type": "code",
   "source": [
    "# Compile the model\n",
    "model.compile(loss='mean_squared_error', optimizer='adam')"
   ],
   "metadata": {
    "id": "oUtRHNVOpP37",
    "ExecuteTime": {
     "start_time": "2023-10-12T11:10:52.074165500Z"
    }
   },
   "execution_count": null,
   "outputs": []
  },
  {
   "cell_type": "code",
   "source": [
    "# Train the model\n",
    "model.fit(X_train, y_train, epochs=50, batch_size=32)"
   ],
   "metadata": {
    "colab": {
     "base_uri": "https://localhost:8080/"
    },
    "id": "IeLwcn6jpP1l",
    "outputId": "fc76b4ad-fd6b-41fe-de49-a15d71184c20",
    "ExecuteTime": {
     "start_time": "2023-10-12T11:10:52.075166800Z"
    }
   },
   "execution_count": null,
   "outputs": []
  },
  {
   "cell_type": "code",
   "source": [
    "# Make forecasts\n",
    "y_pred = model.predict(X_test)"
   ],
   "metadata": {
    "colab": {
     "base_uri": "https://localhost:8080/"
    },
    "id": "xc2im90gpXrl",
    "outputId": "8602b195-759a-4c77-94bb-7399fd3891da",
    "ExecuteTime": {
     "start_time": "2023-10-12T11:10:52.076166Z"
    }
   },
   "execution_count": null,
   "outputs": []
  },
  {
   "cell_type": "code",
   "source": [
    "# Calculate RMSE\n",
    "rmse = np.sqrt(mean_squared_error(y_test, y_pred))\n",
    "print(f\"Root Mean Squared Error (RMSE): {rmse}\")"
   ],
   "metadata": {
    "colab": {
     "base_uri": "https://localhost:8080/"
    },
    "id": "rIkD_Yehpcfo",
    "outputId": "cb0d6632-91f8-4777-ac4a-d26afbec3a25",
    "ExecuteTime": {
     "start_time": "2023-10-12T11:10:52.078164400Z"
    }
   },
   "execution_count": null,
   "outputs": []
  },
  {
   "cell_type": "code",
   "source": [
    "time_index = range(len(y_test))\n",
    "\n",
    "# Plot actual and forecasted values\n",
    "plt.figure(figsize=(12, 6))\n",
    "plt.plot(time_index, y_test, label=\"Actual\", linestyle='-', linewidth=2)\n",
    "plt.plot(time_index, y_pred, label=\"Forecasted\", linestyle='-', linewidth=2)\n",
    "\n",
    "plt.title(\"Copper Price Forecasting\")\n",
    "plt.xlabel(\"Time\")\n",
    "plt.ylabel(\"Copper Price\")\n",
    "plt.legend()\n",
    "plt.grid(True)\n",
    "plt.show()"
   ],
   "metadata": {
    "colab": {
     "base_uri": "https://localhost:8080/",
     "height": 564
    },
    "id": "OUlI_dnJpfZe",
    "outputId": "1c06f347-879f-4c62-c4ac-6bc2db3cd9bd",
    "ExecuteTime": {
     "start_time": "2023-10-12T11:10:52.079163700Z"
    }
   },
   "execution_count": null,
   "outputs": []
  },
  {
   "cell_type": "code",
   "source": [
    "model.save(\"models/ANN.h5\")\n",
    "print(\"Saved model to disk\")"
   ],
   "metadata": {
    "colab": {
     "base_uri": "https://localhost:8080/"
    },
    "id": "WJqZ-QfW7bz8",
    "outputId": "af273b38-99f6-4b9e-86b0-5e1d6455d5cf",
    "ExecuteTime": {
     "start_time": "2023-10-12T11:10:52.080162800Z"
    }
   },
   "execution_count": null,
   "outputs": []
  },
  {
   "cell_type": "markdown",
   "source": [
    "### Vector Autoregressor (VAR)"
   ],
   "metadata": {
    "id": "lM27ZrafeQ23"
   }
  },
  {
   "cell_type": "code",
   "source": [
    "fig, axes = plt.subplots(nrows=5, ncols=2, dpi=120, figsize=(10,6))\n",
    "for i, ax in enumerate(axes.flatten()):\n",
    "    data = df[df.columns[i]]\n",
    "    ax.plot(data, color='red', linewidth=1)\n",
    "    # Decorations\n",
    "    ax.set_title(df.columns[i])\n",
    "    ax.xaxis.set_ticks_position('none')\n",
    "    ax.yaxis.set_ticks_position('none')\n",
    "    ax.spines[\"top\"].set_alpha(0)\n",
    "    ax.tick_params(labelsize=6)\n",
    "\n",
    "plt.tight_layout();"
   ],
   "metadata": {
    "colab": {
     "base_uri": "https://localhost:8080/",
     "height": 661
    },
    "id": "BL6eetB3RQIy",
    "outputId": "7f2df14d-6e93-4a57-c5cc-93f9e00bd479",
    "ExecuteTime": {
     "start_time": "2023-10-12T11:10:52.081162Z"
    }
   },
   "execution_count": 3,
   "outputs": [
    {
     "ename": "NameError",
     "evalue": "name 'plt' is not defined",
     "output_type": "error",
     "traceback": [
      "\u001B[1;31m---------------------------------------------------------------------------\u001B[0m",
      "\u001B[1;31mNameError\u001B[0m                                 Traceback (most recent call last)",
      "Cell \u001B[1;32mIn[3], line 1\u001B[0m\n\u001B[1;32m----> 1\u001B[0m fig, axes \u001B[38;5;241m=\u001B[39m \u001B[43mplt\u001B[49m\u001B[38;5;241m.\u001B[39msubplots(nrows\u001B[38;5;241m=\u001B[39m\u001B[38;5;241m5\u001B[39m, ncols\u001B[38;5;241m=\u001B[39m\u001B[38;5;241m2\u001B[39m, dpi\u001B[38;5;241m=\u001B[39m\u001B[38;5;241m120\u001B[39m, figsize\u001B[38;5;241m=\u001B[39m(\u001B[38;5;241m10\u001B[39m,\u001B[38;5;241m6\u001B[39m))\n\u001B[0;32m      2\u001B[0m \u001B[38;5;28;01mfor\u001B[39;00m i, ax \u001B[38;5;129;01min\u001B[39;00m \u001B[38;5;28menumerate\u001B[39m(axes\u001B[38;5;241m.\u001B[39mflatten()):\n\u001B[0;32m      3\u001B[0m     data \u001B[38;5;241m=\u001B[39m df[df\u001B[38;5;241m.\u001B[39mcolumns[i]]\n",
      "\u001B[1;31mNameError\u001B[0m: name 'plt' is not defined"
     ]
    }
   ]
  },
  {
   "cell_type": "code",
   "source": [
    "# Check the shape of the DataFrame\n",
    "print(\"Original DataFrame Shape:\", df.shape)"
   ],
   "metadata": {
    "colab": {
     "base_uri": "https://localhost:8080/"
    },
    "id": "VTxFpPtmkiGl",
    "outputId": "51898ae7-fde7-4ad0-8b37-2d05b11c0399",
    "ExecuteTime": {
     "start_time": "2023-10-12T11:10:52.084686Z"
    }
   },
   "execution_count": null,
   "outputs": []
  },
  {
   "cell_type": "code",
   "source": [
    "# If 'df' is not 2D, convert it to a 2D NumPy array\n",
    "if len(df.shape) > 2:\n",
    "    df_2d = df.values  # Convert 'df' to a 2D NumPy array\n",
    "    print(\"Converted DataFrame to 2D NumPy Array Shape:\", df_2d.shape)\n",
    "else:\n",
    "    df_2d = df  # 'df' is already 2D"
   ],
   "metadata": {
    "id": "Z09fnm7gkp0s",
    "ExecuteTime": {
     "start_time": "2023-10-12T11:10:52.086691900Z"
    }
   },
   "execution_count": null,
   "outputs": []
  },
  {
   "cell_type": "code",
   "source": [
    "data = df.values"
   ],
   "metadata": {
    "id": "V_RxUuBskdl8",
    "ExecuteTime": {
     "start_time": "2023-10-12T11:10:52.088693200Z"
    }
   },
   "execution_count": null,
   "outputs": []
  },
  {
   "cell_type": "code",
   "source": [
    "# Split your data into a training set and a test set\n",
    "train_size = int(len(data) * 0.8)\n",
    "train, test = data[0:train_size], data[train_size:]"
   ],
   "metadata": {
    "id": "FZahBth2kdhe",
    "ExecuteTime": {
     "start_time": "2023-10-12T11:10:52.089692500Z"
    }
   },
   "execution_count": null,
   "outputs": []
  },
  {
   "cell_type": "code",
   "source": [
    "model = VAR(data)  # 'data' is your 2D array of time series data\n",
    "best_lag_order = model.select_order(15)  # Choose a maximum lag order\n",
    "print(\"Selected Lag Order:\", best_lag_order.selected_orders)"
   ],
   "metadata": {
    "colab": {
     "base_uri": "https://localhost:8080/"
    },
    "id": "gSYeBF0_lLmV",
    "outputId": "68d9c251-0865-4437-e407-ea0bea2556ec",
    "ExecuteTime": {
     "start_time": "2023-10-12T11:10:52.090692800Z"
    }
   },
   "execution_count": null,
   "outputs": []
  },
  {
   "cell_type": "code",
   "source": [
    "# Fit the VAR model\n",
    "model = VAR(train)\n",
    "model_fitted = model.fit(10)"
   ],
   "metadata": {
    "id": "TS9U-2tXkdZD",
    "ExecuteTime": {
     "start_time": "2023-10-12T11:10:52.092692400Z"
    }
   },
   "execution_count": null,
   "outputs": []
  },
  {
   "cell_type": "code",
   "source": [
    "# Forecast\n",
    "forecast = model_fitted.forecast(train[-model_fitted.k_ar:], steps=len(test))"
   ],
   "metadata": {
    "id": "C_KgKJ4-kdR2",
    "ExecuteTime": {
     "start_time": "2023-10-12T11:10:52.094695Z"
    }
   },
   "execution_count": null,
   "outputs": []
  },
  {
   "cell_type": "code",
   "source": [
    "forecast"
   ],
   "metadata": {
    "colab": {
     "base_uri": "https://localhost:8080/"
    },
    "id": "orbrITa1nuwN",
    "outputId": "37fd8c49-31cc-4feb-b588-a5a15c033351",
    "ExecuteTime": {
     "start_time": "2023-10-12T11:10:52.095695300Z"
    }
   },
   "execution_count": null,
   "outputs": []
  },
  {
   "cell_type": "code",
   "source": [
    "# Calculate RMSE\n",
    "# rmse_value = rmse(test, forecast)\n",
    "# print(f\"Root Mean Squared Error (RMSE): {rmse_value}\")"
   ],
   "metadata": {
    "id": "W-jZxoZRkdNN",
    "ExecuteTime": {
     "start_time": "2023-10-12T11:10:52.096694400Z"
    }
   },
   "execution_count": null,
   "outputs": []
  },
  {
   "cell_type": "code",
   "source": [
    "# Plot the actual and forecasted copper prices\n",
    "plt.plot(test[:, 0], label=\"Actual\")\n",
    "plt.plot(forecast[:, 0], label=\"Forecasted\")\n",
    "plt.title(\"Copper Price Forecast\")\n",
    "plt.legend()\n",
    "plt.show()"
   ],
   "metadata": {
    "colab": {
     "base_uri": "https://localhost:8080/",
     "height": 452
    },
    "id": "LPg62xWHncy1",
    "outputId": "782d012e-21ce-4975-859c-18aad67ad1a9",
    "ExecuteTime": {
     "start_time": "2023-10-12T11:10:52.098693700Z"
    }
   },
   "execution_count": null,
   "outputs": []
  },
  {
   "cell_type": "markdown",
   "source": [
    "### LSTM - CNN"
   ],
   "metadata": {
    "id": "FUNwD6-VNIuF"
   }
  },
  {
   "cell_type": "code",
   "source": [
    "# Build the LSTM-CNN model\n",
    "model = Sequential()\n",
    "model.add(Conv1D(filters=64, kernel_size=3, activation='relu', input_shape=(seq_length, len(df.columns.drop('Price')))))\n",
    "model.add(MaxPooling1D(pool_size=2))\n",
    "model.add(LSTM(50))\n",
    "model.add(Dense(1))\n",
    "model.compile(optimizer='adam', loss='mean_squared_error')"
   ],
   "metadata": {
    "id": "EIvW3p00J3zE",
    "ExecuteTime": {
     "start_time": "2023-10-12T11:10:52.099695400Z"
    }
   },
   "execution_count": null,
   "outputs": []
  },
  {
   "cell_type": "code",
   "source": [
    "# Train the model\n",
    "model.fit(X_train, y_train, epochs=50, batch_size=32, verbose=1)"
   ],
   "metadata": {
    "colab": {
     "base_uri": "https://localhost:8080/",
     "height": 638
    },
    "id": "ZSyMT42dNEP-",
    "outputId": "769a5197-dfdc-4553-ec5d-425854a440e7",
    "ExecuteTime": {
     "start_time": "2023-10-12T11:10:52.100695500Z"
    }
   },
   "execution_count": null,
   "outputs": []
  },
  {
   "cell_type": "code",
   "source": [
    "# Evaluate the model\n",
    "y_pred = model.predict(X_test)"
   ],
   "metadata": {
    "colab": {
     "base_uri": "https://localhost:8080/",
     "height": 620
    },
    "id": "4blhKWDxUM64",
    "outputId": "6b8847e0-588e-4d99-f3f3-cd24c7f277a1",
    "ExecuteTime": {
     "start_time": "2023-10-12T11:10:52.101695400Z"
    }
   },
   "execution_count": null,
   "outputs": []
  },
  {
   "cell_type": "code",
   "source": [
    "# Calculate the mean squared error\n",
    "mse = mean_squared_error(y_test, y_pred)\n",
    "print(f\"Mean Squared Error: {mse}\")"
   ],
   "metadata": {
    "id": "RdKxuYHbNmC8",
    "ExecuteTime": {
     "start_time": "2023-10-12T11:10:52.102694400Z"
    }
   },
   "execution_count": null,
   "outputs": []
  },
  {
   "cell_type": "code",
   "source": [
    "# Calculate RMSE\n",
    "rmse = np.sqrt(mse)\n",
    "print(f\"Root Mean Squared Error (RMSE): {rmse}\")"
   ],
   "metadata": {
    "id": "cvycAf6aQZNd",
    "ExecuteTime": {
     "start_time": "2023-10-12T11:10:52.103693600Z"
    }
   },
   "execution_count": null,
   "outputs": []
  },
  {
   "cell_type": "code",
   "source": [
    "# Plot actual vs. forecasted values\n",
    "plt.figure(figsize=(12, 6))\n",
    "plt.plot(y_test, label=\"Actual\")\n",
    "plt.plot(y_pred, label=\"Forecasted\")\n",
    "plt.title(\"Actual vs. Forecasted Copper Prices\")\n",
    "plt.xlabel(\"Time\")\n",
    "plt.ylabel(\"Copper Price\")\n",
    "plt.legend()\n",
    "plt.show()"
   ],
   "metadata": {
    "id": "kt2uNqh1RLvX",
    "ExecuteTime": {
     "start_time": "2023-10-12T11:10:52.105692900Z"
    }
   },
   "execution_count": null,
   "outputs": []
  },
  {
   "cell_type": "code",
   "source": [],
   "metadata": {
    "id": "fcNi0kfbgo7g",
    "ExecuteTime": {
     "start_time": "2023-10-12T11:10:52.106692200Z"
    }
   },
   "execution_count": null,
   "outputs": []
  }
 ]
}
